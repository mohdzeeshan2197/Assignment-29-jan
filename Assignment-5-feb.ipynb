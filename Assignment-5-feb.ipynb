{
 "cells": [
  {
   "cell_type": "markdown",
   "id": "5f919b3c",
   "metadata": {},
   "source": [
    "# Q1. Explain class and object with respect to object oriented programming?Give a suitable example?"
   ]
  },
  {
   "cell_type": "markdown",
   "id": "2ecaf29b",
   "metadata": {},
   "source": [
    "Ans. -class is a blueprint , A class contain a suite of statement including field, constructor, functions etc.A class can be         created by using a keyword class \n",
    "\n",
    "\n",
    "     -object is real world entity it is also known as class variable, class object, and class instance.\n",
    "     \n",
    "     \n",
    "\n",
    "\n"
   ]
  },
  {
   "cell_type": "code",
   "execution_count": 36,
   "id": "0df1e27f",
   "metadata": {},
   "outputs": [],
   "source": [
    "class employee:\n",
    "    name = \"malaya\"\n",
    "    age   = 10\n",
    "    def informate(self):\n",
    "        print(self.name)\n",
    "        print(self.age)"
   ]
  },
  {
   "cell_type": "code",
   "execution_count": 37,
   "id": "c6a097b2",
   "metadata": {},
   "outputs": [],
   "source": [
    "ram = employee()     #object creation this is called class object, class instance, class variable."
   ]
  },
  {
   "cell_type": "code",
   "execution_count": 38,
   "id": "6745813a",
   "metadata": {},
   "outputs": [
    {
     "name": "stdout",
     "output_type": "stream",
     "text": [
      "malaya\n",
      "10\n"
     ]
    }
   ],
   "source": [
    "ram.informate()      #class method calling"
   ]
  },
  {
   "cell_type": "markdown",
   "id": "bf268dd0",
   "metadata": {},
   "source": [
    "# Q2. What are the four pillor of object oriented programming?"
   ]
  },
  {
   "cell_type": "markdown",
   "id": "9eddf06d",
   "metadata": {},
   "source": [
    "Ans. The four pillor of object oriented programming :\n",
    "    Polymorphism,\n",
    "    Inheritance,\n",
    "    Encapsulation,\n",
    "    Abstraction."
   ]
  },
  {
   "cell_type": "markdown",
   "id": "a9e7faf0",
   "metadata": {},
   "source": [
    "\n",
    "# Q3. Explain why the __init__ function is used Give a suitable example?"
   ]
  },
  {
   "cell_type": "markdown",
   "id": "a870cd05",
   "metadata": {},
   "source": [
    "Ans. the __init__ function is called a cunstructoror initializer and it is automatically called when you create a instance of class.\n",
    "__init__ fuinction is mostly used for assaiging value for nwewly created object. "
   ]
  },
  {
   "cell_type": "code",
   "execution_count": 39,
   "id": "ad326db1",
   "metadata": {},
   "outputs": [],
   "source": [
    "class school:            #create a class \n",
    "    def __init__(self, phone_number, email_id, student_id): #creating a parameterize constructor \n",
    "        self.phone_number = phone_number              #assign\n",
    "        self.email_id = email_id\n",
    "        self.student_id = student_id\n",
    "    def info(self):                                     #function\n",
    "        return self.phone_number, self.email_id, self.student_id\n"
   ]
  },
  {
   "cell_type": "code",
   "execution_count": 40,
   "id": "22e8ab51",
   "metadata": {},
   "outputs": [],
   "source": [
    "rahul = school(97979797,\"rahul@gmail.com\",121)  # create a object or instance of class or class variable."
   ]
  },
  {
   "cell_type": "code",
   "execution_count": 41,
   "id": "a3b4c820",
   "metadata": {},
   "outputs": [
    {
     "data": {
      "text/plain": [
       "(97979797, 'rahul@gmail.com', 121)"
      ]
     },
     "execution_count": 41,
     "metadata": {},
     "output_type": "execute_result"
    }
   ],
   "source": [
    "rahul.info()       "
   ]
  },
  {
   "cell_type": "markdown",
   "id": "8dac6b91",
   "metadata": {},
   "source": [
    "# Q4. Why self is used in object oriented programming?"
   ]
  },
  {
   "cell_type": "markdown",
   "id": "6163306b",
   "metadata": {},
   "source": [
    "Ans. self is a reference to the current instance of the class self parameter is not a keyword we use anyword insted of self but      we use it in the first occurence "
   ]
  },
  {
   "cell_type": "markdown",
   "id": "3d7f24e5",
   "metadata": {},
   "source": [
    "# Q5. What is inheritance ? Give an example of each type of interitance?"
   ]
  },
  {
   "cell_type": "markdown",
   "id": "29b5b22f",
   "metadata": {},
   "source": [
    "Ans. Interite allows us to define a class that inherits all the methods and behaviour or another class, parent class inherite from it is also known as base class , child class is the class that inherits from parent or base class also known as derived class"
   ]
  },
  {
   "cell_type": "markdown",
   "id": "e7bfa88f",
   "metadata": {},
   "source": [
    "There are four types of inheritance:\n",
    "    1. Single Inheritance  \n",
    "    2. multi-level Inheritance \n",
    "    3. multiple Inheritance \n",
    "    4. Hierarchial Inheritance "
   ]
  },
  {
   "cell_type": "code",
   "execution_count": 63,
   "id": "536e9e55",
   "metadata": {},
   "outputs": [
    {
     "name": "stdout",
     "output_type": "stream",
     "text": [
      "This is a parent class\n",
      "This is a child class\n"
     ]
    }
   ],
   "source": [
    "#1. single Inheritance:\n",
    "    \n",
    "class A:\n",
    "    def fun1(self):\n",
    "        print(\"This is a parent class\")\n",
    "class B(A):                                # class B inherits class A --> by using () paranthesis  (A)\n",
    "    def fun2(self):\n",
    "        print(\"This is a child class\")\n",
    "obj = B()\n",
    "obj.fun1()\n",
    "obj.fun2()"
   ]
  },
  {
   "cell_type": "code",
   "execution_count": 68,
   "id": "ba4b9dda",
   "metadata": {},
   "outputs": [
    {
     "name": "stdout",
     "output_type": "stream",
     "text": [
      "A1 This is a Parent\n",
      "B1 This is a Child class of A1\n",
      "C1 This is a Child class of B1\n"
     ]
    }
   ],
   "source": [
    "# 2. Multi-level Inheritance\n",
    "class A1:                                # this is a parent class\n",
    "    def fun1(self):\n",
    "        print(\"A1 This is a Parent\")\n",
    "class B1(A1):                            # this is the child class of A1\n",
    "    def fun2(self):\n",
    "        print(\"B1 This is a Child class of A1\")\n",
    "class C1(B1):                            # this is a child class of B1\n",
    "    def fun3(self):\n",
    "        print(\"C1 This is a Child class of B1\")\n",
    "\n",
    "a = C1()      #we create a object of class C1 and\n",
    "              #you see that we call Functions of A1 and B1 which are in another class this is because of inheritance\n",
    "a.fun1()\n",
    "a.fun2()\n",
    "a.fun3()"
   ]
  },
  {
   "cell_type": "code",
   "execution_count": 77,
   "id": "dcc819d5",
   "metadata": {},
   "outputs": [
    {
     "name": "stdout",
     "output_type": "stream",
     "text": [
      "This is Parent class A2\n",
      "This is a Parent class B2\n",
      "This is a Child class C2\n"
     ]
    }
   ],
   "source": [
    "#3. multiple Inheritance\n",
    "class A2:                             # this is parent class\n",
    "    def fun1(self):\n",
    "        print(\"This is Parent class A2\")\n",
    "class B2:                             # this is parent class\n",
    "    def fun2(self):\n",
    "        print(\"This is a Parent class B2\")\n",
    "class C2(A2 , B2):                    # this is the child class of A2 and B2\n",
    "    def fun3(self):\n",
    "        print(\"This is a Child class C2\")\n",
    "\n",
    "a = C2()\n",
    "a.fun1()\n",
    "a.fun2()\n",
    "a.fun3()"
   ]
  },
  {
   "cell_type": "code",
   "execution_count": 91,
   "id": "f253b09a",
   "metadata": {},
   "outputs": [
    {
     "name": "stdout",
     "output_type": "stream",
     "text": [
      "This function in parent class \n",
      "This function in Child 1 class \n",
      "This function in parent class \n",
      "This function in child 2 class \n"
     ]
    }
   ],
   "source": [
    "# 4. Hierarchial Inheritance\n",
    "class parent:\n",
    "    def fun1(self):\n",
    "        print(\"This function in parent class \")\n",
    "class child1(parent):\n",
    "    def fun2(self):\n",
    "        print(\"This function in Child 1 class \")\n",
    "class child2(parent):\n",
    "    def fun3(self):\n",
    "        print(\"This function in child 2 class \")\n",
    "\n",
    "        \n",
    "obj1 = child1()\n",
    "obj1.fun1()\n",
    "obj1.fun2()\n",
    "\n",
    "obj2 = child2()\n",
    "obj2.fun1()\n",
    "obj2.fun3()"
   ]
  }
 ],
 "metadata": {
  "kernelspec": {
   "display_name": "Python 3 (ipykernel)",
   "language": "python",
   "name": "python3"
  },
  "language_info": {
   "codemirror_mode": {
    "name": "ipython",
    "version": 3
   },
   "file_extension": ".py",
   "mimetype": "text/x-python",
   "name": "python",
   "nbconvert_exporter": "python",
   "pygments_lexer": "ipython3",
   "version": "3.9.13"
  }
 },
 "nbformat": 4,
 "nbformat_minor": 5
}

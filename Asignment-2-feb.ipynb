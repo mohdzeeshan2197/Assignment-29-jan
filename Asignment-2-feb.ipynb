{
 "cells": [
  {
   "cell_type": "markdown",
   "id": "7d13a352",
   "metadata": {},
   "source": [
    "# Q1. explain with an example each when to use a while loop or a for loop?"
   ]
  },
  {
   "cell_type": "markdown",
   "id": "b958aed7",
   "metadata": {},
   "source": [
    "Ans. For Loop-->. In For loop the statement is executed then after increment/decrement the value\n",
    "                . We use For loop when we already known number of loop iterations\n",
    "                . For loop executes n number of steps in single line\n",
    "  \n",
    "  While Loop--> . While loop is executed the before and after increment/decrement the value\n",
    "                . We use while loop when we don't known the numbers of iterations\n",
    "                . It is not possible for a while loop to executes n numbers of step in single line\n",
    "                \n",
    "       for loop ex.\n",
    "       \n",
    "                   l = [3,4,5,6,7]\n",
    "                   sum = 0\n",
    "                   for i in l:\n",
    "                       sum +=i\n",
    "                   print(\"Sum of a list: \",sum)\n",
    "                   \n",
    "                   \n",
    "      While Loop ex. \n",
    "      \n",
    "                   l = [3,4,5,6,7]\n",
    "                   i = 0\n",
    "                   while i < len(l):\n",
    "                       print(l[i])\n",
    "                       i+=1                "
   ]
  },
  {
   "cell_type": "markdown",
   "id": "bb5c6536",
   "metadata": {},
   "source": [
    "# Q2. Write a program to print sum and product of the first ten natural numbers using For and While loop?"
   ]
  },
  {
   "cell_type": "code",
   "execution_count": 31,
   "id": "ef7aadd6",
   "metadata": {},
   "outputs": [
    {
     "name": "stdout",
     "output_type": "stream",
     "text": [
      "Enter Number: 10\n",
      "Sum of Natural Numbers:  55\n",
      "Product of Natural Number: 3628800\n"
     ]
    }
   ],
   "source": [
    "# 1.using for loop:\n",
    "\n",
    "n = int(input(\"Enter Number: \"))\n",
    "sum = 0\n",
    "pro = 1\n",
    "if n < 0:\n",
    "    print(\"Please Enter a Valid Numbers\")\n",
    "else:\n",
    "    for i in range(1,n+1):\n",
    "        sum +=i\n",
    "        pro *=i\n",
    "    print(\"Sum of Natural Numbers:\",sum)\n",
    "    print(\"Product of Natural Number:\",pro)\n",
    "        "
   ]
  },
  {
   "cell_type": "code",
   "execution_count": 3,
   "id": "878a518a",
   "metadata": {},
   "outputs": [
    {
     "name": "stdout",
     "output_type": "stream",
     "text": [
      "Enter a Number: 10\n",
      "55\n"
     ]
    }
   ],
   "source": [
    "# 2.using While loop:\n",
    "n = int(input(\"Enter a Number: \"))\n",
    "i = 1\n",
    "sum = 0\n",
    "if n < 0:\n",
    "    print(\"Enter a valid number\")\n",
    "else:\n",
    "    while i <= n:\n",
    "        sum +=i\n",
    "        i +=1\n",
    "    print(sum)"
   ]
  },
  {
   "cell_type": "markdown",
   "id": "2348512c",
   "metadata": {},
   "source": [
    "# Q3. create a program to compute the electricity bill for a house hold The per-unit charges in rupees are as follows: For the first 100 units, the user will be charged Rs. 4.5 per unit, for the next 100 units, the user will be charged Rs. 6 per unit, and for the next 100 units, the user willbe charged Rs. 10 per unit, After 300 units and above the user will be charged Rs. 20 per unit. "
   ]
  },
  {
   "cell_type": "code",
   "execution_count": 8,
   "id": "78969dae",
   "metadata": {},
   "outputs": [
    {
     "name": "stdout",
     "output_type": "stream",
     "text": [
      "Enter Units : 310\n",
      "Bill of 310.0 unit is: 2250.0\n"
     ]
    }
   ],
   "source": [
    "unit = float(input(\"Enter Units : \")) \n",
    "if unit < 0:\n",
    "    print(\"Enter Valid Units\")\n",
    "elif unit <= 100:\n",
    "    ep =unit*4.5\n",
    "    print(\"Bill of\",unit,\"unit is:\",ep)\n",
    "elif unit <= 200:\n",
    "    ep = (100*4.5) + (100-unit) * 6\n",
    "    print(\"Bill of\",unit,\"unit is:\",ep)\n",
    "elif unit <= 300:\n",
    "    ep = (100*4.5) + (100*6) + (unit-200)*10\n",
    "    print(\"bill of\",unit,\"unit is:\",ep)\n",
    "else:\n",
    "    ep = (100*4.5) + (100*6) + (100*10) + (unit-300)*20\n",
    "    print(\"Bill of\",unit,\"unit is:\",ep)"
   ]
  },
  {
   "cell_type": "markdown",
   "id": "872f149a",
   "metadata": {},
   "source": [
    "# Q4. create a number of list 1 - 100 use for loop and while loop to calculate the cube of each number and if the cube of that number si divisible by 4&5  then append that number in a list and print that list?"
   ]
  },
  {
   "cell_type": "code",
   "execution_count": 1,
   "id": "55b7b89b",
   "metadata": {},
   "outputs": [
    {
     "name": "stdout",
     "output_type": "stream",
     "text": [
      "[8, 64, 125, 216, 512, 1000, 1728, 2744, 3375, 4096, 5832, 8000, 10648, 13824, 15625, 17576, 21952, 27000, 32768, 39304, 42875, 46656, 54872, 64000, 74088, 85184, 91125, 97336, 110592, 125000, 140608, 157464, 166375, 175616, 195112, 216000, 238328, 262144, 274625, 287496, 314432, 343000, 373248, 405224, 421875, 438976, 474552, 512000, 551368, 592704, 614125, 636056, 681472, 729000, 778688, 830584, 857375, 884736, 941192, 1000000]\n"
     ]
    }
   ],
   "source": [
    "new= []\n",
    "given=[]\n",
    "\n",
    "for i in range(1,100+1):\n",
    "    given.append(i)\n",
    "for j in given:\n",
    "    cube=j**3\n",
    "    if cube % 4 ==0 or cube % 5 == 0:\n",
    "        new.append(cube)\n",
    "print(new)\n",
    "\n",
    "        \n",
    "        "
   ]
  },
  {
   "cell_type": "code",
   "execution_count": 6,
   "id": "7abc9a8f",
   "metadata": {},
   "outputs": [
    {
     "name": "stdout",
     "output_type": "stream",
     "text": [
      "[8, 64, 125, 216, 512, 1000, 1728, 2744, 3375, 4096, 5832, 8000, 10648, 13824, 15625, 17576, 21952, 27000, 32768, 39304, 42875, 46656, 54872, 64000, 74088, 85184, 91125, 97336, 110592, 125000, 140608, 157464, 166375, 175616, 195112, 216000, 238328, 262144, 274625, 287496, 314432, 343000, 373248, 405224, 421875, 438976, 474552, 512000, 551368, 592704, 614125, 636056, 681472, 729000, 778688, 830584, 857375, 884736, 941192, 1000000]\n"
     ]
    }
   ],
   "source": [
    "l=[]\n",
    "i = 1\n",
    "while i <= 100:\n",
    "    cube= i**3\n",
    "    if cube % 4 == 0 or cube % 5 == 0:\n",
    "        l.append(cube)\n",
    "    i= i+1\n",
    "print(l)"
   ]
  },
  {
   "cell_type": "markdown",
   "id": "e2787b59",
   "metadata": {},
   "source": [
    "# Q5. Write a program to filter count vowels in the given string?\n"
   ]
  },
  {
   "cell_type": "code",
   "execution_count": 18,
   "id": "e7dba995",
   "metadata": {},
   "outputs": [
    {
     "name": "stdout",
     "output_type": "stream",
     "text": [
      "11\n"
     ]
    }
   ],
   "source": [
    "# st= input(\"Enter a string: \")\n",
    "string = \"I want to become a data scientist\"\n",
    "counter=0\n",
    "for i in range(len(string)):\n",
    "    if string[i] in [\"a\",\"e\",\"i\",\"o\",\"u\"]:\n",
    "        counter +=1\n",
    "print(counter)"
   ]
  }
 ],
 "metadata": {
  "kernelspec": {
   "display_name": "Python 3 (ipykernel)",
   "language": "python",
   "name": "python3"
  },
  "language_info": {
   "codemirror_mode": {
    "name": "ipython",
    "version": 3
   },
   "file_extension": ".py",
   "mimetype": "text/x-python",
   "name": "python",
   "nbconvert_exporter": "python",
   "pygments_lexer": "ipython3",
   "version": "3.9.13"
  }
 },
 "nbformat": 4,
 "nbformat_minor": 5
}

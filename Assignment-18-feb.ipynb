{
 "cells": [
  {
   "cell_type": "markdown",
   "id": "5e8c43b3",
   "metadata": {},
   "source": [
    "# Q1. What is an API? Give an example, where an API is used in real life."
   ]
  },
  {
   "cell_type": "markdown",
   "id": "e2df6c5d",
   "metadata": {},
   "source": [
    "Ans. API is defined as a software code that help two different software to communicate or exchange data with each other\n",
    "Google Maps APIs: Using a JavaScript or Flash interface, Google Maps may be integrated into Web pages using Google Maps APIs."
   ]
  },
  {
   "cell_type": "markdown",
   "id": "7e9cf1ea",
   "metadata": {},
   "source": [
    "# Q2. Give advantages and disadvantages of using API."
   ]
  },
  {
   "cell_type": "markdown",
   "id": "ec2f94c9",
   "metadata": {},
   "source": [
    "Ans. Advantages of an API :\n",
    "    Automation, More Scope, Efficiency, Adaptation, New Data Available\n",
    "    \n",
    "    Disadvantage:\n",
    "        API Security, "
   ]
  },
  {
   "cell_type": "markdown",
   "id": "e5ae44e0",
   "metadata": {},
   "source": [
    "# Q3. What is a Web API? Differentiate between API and Web API."
   ]
  },
  {
   "cell_type": "markdown",
   "id": "74f7a024",
   "metadata": {},
   "source": [
    "Web API is an API as the name suggests, it can be accessed over the web using the HTTP protocol. It is a framework that helps you to create and develop HTTP based RESTFUL services.\n",
    "API is the acronym for Application Programming Interface. It is a software interface that allows two applications to interact with each other without any user intervention.\n",
    "\n",
    "APIs provides product or service to communicate with other products and services without having to know how they’re implemented.\n",
    "\n",
    "A Web service is a collection of open protocols and standards which are widely used for exchanging data between systems or applications.\n",
    "\n",
    "Software applications are written using various programming languages and running on multiple platforms. It allows you to use web services to exchange data over computer networks.\n",
    "\n"
   ]
  },
  {
   "cell_type": "markdown",
   "id": "f3d5f851",
   "metadata": {},
   "source": [
    "# Q4. Explain REST and SOAP Architecture. Mention shortcomings of SOAP."
   ]
  },
  {
   "cell_type": "markdown",
   "id": "16b45918",
   "metadata": {},
   "source": [
    "Rest is also known as restful API are web services thata follows the rest architecture style standes for Represental state transfer whuch is a set of principal for building web services that usues HTTP whereas SOAP It uses XML format to transfer messages. It works on top of application layer protocols like HTML and SMTP for notations and transmission."
   ]
  },
  {
   "cell_type": "markdown",
   "id": "b23736d7",
   "metadata": {},
   "source": [
    "# Q5. Differentiate between REST and SOAP."
   ]
  },
  {
   "cell_type": "markdown",
   "id": "299315cd",
   "metadata": {},
   "source": [
    " SOAP--> Relies on SOAP (Simple Object Access Protocol), Transports data in standard XML format, Works over HTTP, HTTPS, SMTP, XMPP\n",
    "    REST --> Relies on REST (Representational State Transfer) architecture using HTTP., Generally transports data in JSON. It is based on URI. Because REST follows stateless model, REST does not enforces message format as XML or JSON etc., Works over HTTP and HTTPS\n",
    "    "
   ]
  }
 ],
 "metadata": {
  "kernelspec": {
   "display_name": "Python 3 (ipykernel)",
   "language": "python",
   "name": "python3"
  },
  "language_info": {
   "codemirror_mode": {
    "name": "ipython",
    "version": 3
   },
   "file_extension": ".py",
   "mimetype": "text/x-python",
   "name": "python",
   "nbconvert_exporter": "python",
   "pygments_lexer": "ipython3",
   "version": "3.9.13"
  }
 },
 "nbformat": 4,
 "nbformat_minor": 5
}

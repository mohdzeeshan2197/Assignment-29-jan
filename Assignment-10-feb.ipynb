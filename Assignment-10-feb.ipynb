{
 "cells": [
  {
   "cell_type": "markdown",
   "id": "d1ffd6be",
   "metadata": {},
   "source": [
    "# Q1. Which function is used to open a file? What are the different modes of opening a file? Explain each mode of file opening."
   ]
  },
  {
   "cell_type": "markdown",
   "id": "08113055",
   "metadata": {},
   "source": [
    "Ans. open() is used to open a file, this function returns a file object and takes two arguments one that accept the file name and another accept mode (access mode), Access mode is the type of operations possible in the open file.\n",
    "There are six type of mode:\n",
    "1. Read Only('r') - It is default mode in which file is opened.\n",
    "2. Write Only('w') - Open the file for writting and, for existing file the data is over-written and also creates a file if file                      doesnt exist.\n",
    "3. Read and Write('r+') - Open the file for read and write.\n",
    "4. Write and Read('w+') - Open the file for reading and writing, for existing files data is over-written.\n",
    "5. Append Only('a') - Open the file for writing, file created if doesnt exist, the data is written will be inserted at the end                       after existing data.\n",
    "6. Append and Read('a+') - Open the file for read and write, the file is created if doesnt exist,the data is inserted at the                              end after the existing data.  "
   ]
  },
  {
   "cell_type": "markdown",
   "id": "c62dbaaa",
   "metadata": {},
   "source": [
    "# Q2. Why close() function is used? Why is it important to close a file?"
   ]
  },
  {
   "cell_type": "markdown",
   "id": "8bbe911a",
   "metadata": {},
   "source": [
    "close() is used to close a file in python the close function is calland the operation is performend on the closed file it gives you a valueError more than one once close file is important because it reduce the risk of being unwarrentedly read or modififed."
   ]
  },
  {
   "cell_type": "markdown",
   "id": "4ca60888",
   "metadata": {},
   "source": [
    "# Q3. Write a python program to create a text file. Write ‘I want to become a Data Scientist’ in that file. Thenclose the file. Open this file and read the content of the file."
   ]
  },
  {
   "cell_type": "code",
   "execution_count": null,
   "id": "1538368e",
   "metadata": {},
   "outputs": [],
   "source": []
  },
  {
   "cell_type": "code",
   "execution_count": 11,
   "id": "e008d9d9",
   "metadata": {},
   "outputs": [
    {
     "name": "stdout",
     "output_type": "stream",
     "text": [
      "write successful\n"
     ]
    }
   ],
   "source": [
    "file_created = open(\"C:\\\\Users\\\\Let\\\\Desktop\\\\New folder\\my_file.txt\",'w')\n",
    "file_created.write(\"I want to become a data scientist\")\n",
    "print(\"write successful\")"
   ]
  },
  {
   "cell_type": "code",
   "execution_count": 12,
   "id": "f752ab21",
   "metadata": {},
   "outputs": [
    {
     "name": "stdout",
     "output_type": "stream",
     "text": [
      "['I want to become a data scientist']\n",
      "read successful\n"
     ]
    }
   ],
   "source": [
    "file_created = open(\"C:\\\\Users\\\\Let\\\\Desktop\\\\New folder\\my_file.txt\",'r')\n",
    "print(file_created.readlines())\n",
    "print(\"read successful\")"
   ]
  },
  {
   "cell_type": "markdown",
   "id": "7da15684",
   "metadata": {},
   "source": [
    "# Q4. Explain the following with python code: read(), readline() and readlines()."
   ]
  },
  {
   "cell_type": "code",
   "execution_count": 27,
   "id": "0489f6e8",
   "metadata": {},
   "outputs": [
    {
     "name": "stdout",
     "output_type": "stream",
     "text": [
      "file write successfully\n"
     ]
    }
   ],
   "source": [
    "file = open(\"E:\\\\files\\make.txt\",\"w\")\n",
    "file.write(\"i want to meet\\nsir sudhanshu\")\n",
    "print(\"file write successfully\")"
   ]
  },
  {
   "cell_type": "code",
   "execution_count": 34,
   "id": "a2eb8ff5",
   "metadata": {},
   "outputs": [
    {
     "data": {
      "text/plain": [
       "'i '"
      ]
     },
     "execution_count": 34,
     "metadata": {},
     "output_type": "execute_result"
    }
   ],
   "source": [
    "file = open(\"E:\\\\files\\make.txt\",\"r\")\n",
    "file.read(2)"
   ]
  },
  {
   "cell_type": "code",
   "execution_count": 31,
   "id": "52c63931",
   "metadata": {},
   "outputs": [
    {
     "data": {
      "text/plain": [
       "['want to meet\\n', 'sir sudhanshu']"
      ]
     },
     "execution_count": 31,
     "metadata": {},
     "output_type": "execute_result"
    }
   ],
   "source": [
    "file.readlines()"
   ]
  },
  {
   "cell_type": "code",
   "execution_count": 35,
   "id": "61e81bbf",
   "metadata": {},
   "outputs": [
    {
     "data": {
      "text/plain": [
       "'want to meet\\n'"
      ]
     },
     "execution_count": 35,
     "metadata": {},
     "output_type": "execute_result"
    }
   ],
   "source": [
    "file.readline()"
   ]
  },
  {
   "cell_type": "markdown",
   "id": "b0f24cce",
   "metadata": {},
   "source": [
    "# Q5. Explain why with statement is used with open(). What is the advantage of using with statement and open()together?"
   ]
  },
  {
   "cell_type": "markdown",
   "id": "5c1667a4",
   "metadata": {},
   "source": [
    "Ans. with statement is used in exception handling to make the code cleaner and much more readable. It simplifies the management of common resources like file streams."
   ]
  },
  {
   "cell_type": "markdown",
   "id": "5022b80b",
   "metadata": {},
   "source": [
    "# Q6. Explain the write() and writelines() functions. Give a suitable example."
   ]
  },
  {
   "cell_type": "markdown",
   "id": "2e5ea9c5",
   "metadata": {},
   "source": [
    "The write() function will write the content in the file without adding any extra characters. the writelines() function is written into the opened file. Similar to the write() function, the writelines() function does not add a newline character(\\n) to the end of the string."
   ]
  }
 ],
 "metadata": {
  "kernelspec": {
   "display_name": "Python 3 (ipykernel)",
   "language": "python",
   "name": "python3"
  },
  "language_info": {
   "codemirror_mode": {
    "name": "ipython",
    "version": 3
   },
   "file_extension": ".py",
   "mimetype": "text/x-python",
   "name": "python",
   "nbconvert_exporter": "python",
   "pygments_lexer": "ipython3",
   "version": "3.9.13"
  }
 },
 "nbformat": 4,
 "nbformat_minor": 5
}

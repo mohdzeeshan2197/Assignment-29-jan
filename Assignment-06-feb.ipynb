{
 "cells": [
  {
   "cell_type": "markdown",
   "id": "b6bb3c48",
   "metadata": {},
   "source": [
    "# Q1. Create a function whicgh will take a list as an argument and return the product of all the numbers after creating a flat list "
   ]
  },
  {
   "cell_type": "code",
   "execution_count": 4,
   "id": "0b1a8dff",
   "metadata": {},
   "outputs": [],
   "source": [
    "list1 = [1,2,3,4, [44,55,66, True], False, (34,56,78,89,34), {1,2,3,3,2,1}, {1:34, \"key2\": [55, 67, 78, 89], 4: (45,\n",
    "22, 61, 34)}, [56, 'data science'], 'Machine Learning']"
   ]
  },
  {
   "cell_type": "code",
   "execution_count": 5,
   "id": "fbce6354",
   "metadata": {},
   "outputs": [],
   "source": [
    "def flatlist(list1):\n",
    "    flist = []\n",
    "    for i in list1:\n",
    "        if type(i) == list or type(i) == tuple or type(i) == set:\n",
    "            for element in i:\n",
    "                flist.append(element)\n",
    "        elif type(i) == dict:\n",
    "            templist = list(i.items())\n",
    "            for i in templist:\n",
    "                for element in i:\n",
    "                    if type(element) == list or type(element) ==tuple:\n",
    "                        for j in element:\n",
    "                            flist.append(j)\n",
    "                    else:\n",
    "                        flist.append(element)\n",
    "        else:\n",
    "            flist.append(i)\n",
    "    return flist"
   ]
  },
  {
   "cell_type": "code",
   "execution_count": 6,
   "id": "0a3fb8de",
   "metadata": {},
   "outputs": [
    {
     "name": "stdout",
     "output_type": "stream",
     "text": [
      "4134711838987085478833841242112000\n"
     ]
    }
   ],
   "source": [
    "li = flatlist(list1)\n",
    "# print(li)\n",
    "pro =1\n",
    "for i in li:\n",
    "    if type(i) == int:\n",
    "        pro *= i\n",
    "print(pro)"
   ]
  },
  {
   "cell_type": "markdown",
   "id": "6f974209",
   "metadata": {},
   "source": [
    "# Q2. Write a python program for encrypting a message sent to you by your friend  the logic of encryting should be such that for the output should be z  for b. the output should be y for c , the output should x respectively also the white spaces should be replace with the $ signkeep the punctuation marked unchanged?"
   ]
  },
  {
   "cell_type": "code",
   "execution_count": 8,
   "id": "0b7b090c",
   "metadata": {},
   "outputs": [],
   "source": [
    "# Input Sentence: I want to become a Data Scientist."
   ]
  },
  {
   "cell_type": "code",
   "execution_count": 33,
   "id": "413089cd",
   "metadata": {},
   "outputs": [],
   "source": [
    "s = \"I want to become a Data Scientist\"\n",
    "d = {'a':'z', 'b':'y', 'c':'x', 'd':'w', 'e':'v', 'f':'u', 'g':'t', 'h':'s', 'i':'r', 'j':'q', 'k':'p', 'l':'o', 'm':'n', 'n':'m', 'o':'l', 'p':'k','q':'j', 'r':'i', 's':'h', 't':'g', 'u':'f', 'v':'e', 'w':'d', 'x':'c', 'y':'b', 'z':'a'}\n"
   ]
  },
  {
   "cell_type": "code",
   "execution_count": 34,
   "id": "6aa131c1",
   "metadata": {},
   "outputs": [],
   "source": [
    "sl = s.lower()"
   ]
  },
  {
   "cell_type": "code",
   "execution_count": 35,
   "id": "ada60aef",
   "metadata": {},
   "outputs": [
    {
     "name": "stdout",
     "output_type": "stream",
     "text": [
      "i$want$to$become$a$data$scientist\n"
     ]
    }
   ],
   "source": [
    "for i in sl:\n",
    "    if i == \" \":\n",
    "        sl = sl.replace(i,'$')\n",
    "print(sl)"
   ]
  },
  {
   "cell_type": "code",
   "execution_count": 36,
   "id": "556ce0f6",
   "metadata": {},
   "outputs": [],
   "source": [
    "for i in sl:\n",
    "    if i in d.keys():\n",
    "        sl = sl.replace(i,d[i])\n",
    "    "
   ]
  },
  {
   "cell_type": "code",
   "execution_count": 44,
   "id": "347cd2a1",
   "metadata": {},
   "outputs": [
    {
     "name": "stdout",
     "output_type": "stream",
     "text": [
      "Encrypted code\n",
      " r$wzmg$gl$yvxlmv$z$wzgz$hxrvmgrhg\n"
     ]
    }
   ],
   "source": [
    "print(\"Encrypted code\\n\",sl)"
   ]
  }
 ],
 "metadata": {
  "kernelspec": {
   "display_name": "Python 3 (ipykernel)",
   "language": "python",
   "name": "python3"
  },
  "language_info": {
   "codemirror_mode": {
    "name": "ipython",
    "version": 3
   },
   "file_extension": ".py",
   "mimetype": "text/x-python",
   "name": "python",
   "nbconvert_exporter": "python",
   "pygments_lexer": "ipython3",
   "version": "3.9.13"
  }
 },
 "nbformat": 4,
 "nbformat_minor": 5
}

{
 "cells": [
  {
   "cell_type": "markdown",
   "id": "aed8050a",
   "metadata": {},
   "source": [
    "# Q1. Write a python program to sort a given list of tuple based on the integer value using a lambda function? "
   ]
  },
  {
   "cell_type": "markdown",
   "id": "f1b1d3c4",
   "metadata": {},
   "source": [
    "given tuple list   --->   [('Sachin Tendulkar',34357),('Rickey Ponting',27483),'Jack Kallis',25534,'Virat Kohli',24936]"
   ]
  },
  {
   "cell_type": "code",
   "execution_count": 16,
   "id": "e70900b7",
   "metadata": {},
   "outputs": [],
   "source": [
    "tup = [('Sachin Tendulkar', 34357), ('Ricky Ponting', 27483), ('Jack Kallis', 25534), ('Virat Kohli', 24936)]\n"
   ]
  },
  {
   "cell_type": "code",
   "execution_count": 27,
   "id": "801c50c3",
   "metadata": {},
   "outputs": [
    {
     "name": "stdout",
     "output_type": "stream",
     "text": [
      "[('Virat Kohli', 24936), ('Jack Kallis', 25534), ('Ricky Ponting', 27483), ('Sachin Tendulkar', 34357)]\n"
     ]
    }
   ],
   "source": [
    "l=[('Sachin Tendulkar', 34357), ('Ricky Ponting', 27483), ('Jack Kallis', 25534), ('Virat Kohli', 24936)]\n",
    "l.sort(key=lambda x:x[1])\n",
    "print(l)"
   ]
  },
  {
   "cell_type": "markdown",
   "id": "0e9018f4",
   "metadata": {},
   "source": [
    "# Q2. write a python program to find the square of all the numbers in the given list of integers using lambda and map functions?"
   ]
  },
  {
   "cell_type": "code",
   "execution_count": 33,
   "id": "00611c42",
   "metadata": {},
   "outputs": [
    {
     "data": {
      "text/plain": [
       "[1, 4, 9, 16, 25, 36, 49, 64, 81, 100]"
      ]
     },
     "execution_count": 33,
     "metadata": {},
     "output_type": "execute_result"
    }
   ],
   "source": [
    "l = [1, 2, 3, 4, 5, 6, 7, 8, 9, 10]     # Given string\n",
    "list(map(lambda x : x**2,l))"
   ]
  },
  {
   "cell_type": "markdown",
   "id": "e60f9d19",
   "metadata": {},
   "source": [
    "# Q3. Write a python program to convert the given list integers into a tuple of string use map and lambda function?"
   ]
  },
  {
   "cell_type": "code",
   "execution_count": 37,
   "id": "41b06b91",
   "metadata": {},
   "outputs": [],
   "source": [
    "#Given String: [1, 2, 3, 4, 5, 6, 7, 8, 9, 10]\n",
    "\n",
    "#Expected output: ('1', '2', '3', '4', '5', '6', '7', '8', '9', '10')"
   ]
  },
  {
   "cell_type": "code",
   "execution_count": 46,
   "id": "1c6248bc",
   "metadata": {},
   "outputs": [],
   "source": [
    "l1 = [1,2,3,4,5,6,7,8,9,10]\n",
    "tup = tuple(map(lambda x : str(x), l1,))"
   ]
  },
  {
   "cell_type": "code",
   "execution_count": 47,
   "id": "e505ed99",
   "metadata": {},
   "outputs": [
    {
     "data": {
      "text/plain": [
       "('1', '2', '3', '4', '5', '6', '7', '8', '9', '10')"
      ]
     },
     "execution_count": 47,
     "metadata": {},
     "output_type": "execute_result"
    }
   ],
   "source": [
    "tup"
   ]
  },
  {
   "cell_type": "code",
   "execution_count": 48,
   "id": "e70a49aa",
   "metadata": {},
   "outputs": [
    {
     "data": {
      "text/plain": [
       "tuple"
      ]
     },
     "execution_count": 48,
     "metadata": {},
     "output_type": "execute_result"
    }
   ],
   "source": [
    "type(tup)"
   ]
  },
  {
   "cell_type": "markdown",
   "id": "c2a18114",
   "metadata": {},
   "source": [
    "# Q4. Write a python program using reduce function to compute the product of the list containg the numbers from 1-25?"
   ]
  },
  {
   "cell_type": "code",
   "execution_count": 59,
   "id": "9e047042",
   "metadata": {},
   "outputs": [],
   "source": [
    "from functools import reduce"
   ]
  },
  {
   "cell_type": "code",
   "execution_count": 62,
   "id": "de5223c8",
   "metadata": {},
   "outputs": [],
   "source": [
    "l2=[]\n",
    "for i in range(1, 26):\n",
    "    l2.append(i)"
   ]
  },
  {
   "cell_type": "code",
   "execution_count": 64,
   "id": "2eea9886",
   "metadata": {},
   "outputs": [
    {
     "data": {
      "text/plain": [
       "[1,\n",
       " 2,\n",
       " 3,\n",
       " 4,\n",
       " 5,\n",
       " 6,\n",
       " 7,\n",
       " 8,\n",
       " 9,\n",
       " 10,\n",
       " 11,\n",
       " 12,\n",
       " 13,\n",
       " 14,\n",
       " 15,\n",
       " 16,\n",
       " 17,\n",
       " 18,\n",
       " 19,\n",
       " 20,\n",
       " 21,\n",
       " 22,\n",
       " 23,\n",
       " 24,\n",
       " 25]"
      ]
     },
     "execution_count": 64,
     "metadata": {},
     "output_type": "execute_result"
    }
   ],
   "source": [
    "l2"
   ]
  },
  {
   "cell_type": "code",
   "execution_count": 78,
   "id": "e42ec837",
   "metadata": {},
   "outputs": [],
   "source": [
    "# reduce(lambda x , y : x * y , l2)"
   ]
  },
  {
   "cell_type": "markdown",
   "id": "4d24a7d1",
   "metadata": {},
   "source": [
    "# Q5.Write a python program to filter the number in a given list that are divisible by 2 and 3 using the filter function?"
   ]
  },
  {
   "cell_type": "code",
   "execution_count": 79,
   "id": "3a02b131",
   "metadata": {},
   "outputs": [],
   "source": [
    "# Given List -->  [2, 3, 6, 9, 27, 60, 90, 120, 55, 46]"
   ]
  },
  {
   "cell_type": "code",
   "execution_count": 80,
   "id": "b166c843",
   "metadata": {},
   "outputs": [],
   "source": [
    "l5 = [2, 3, 6, 9, 27, 60, 90, 120, 55, 46]"
   ]
  },
  {
   "cell_type": "code",
   "execution_count": 81,
   "id": "55db3736",
   "metadata": {},
   "outputs": [
    {
     "data": {
      "text/plain": [
       "[6, 60, 90, 120]"
      ]
     },
     "execution_count": 81,
     "metadata": {},
     "output_type": "execute_result"
    }
   ],
   "source": [
    "list(filter(lambda x : x % 2 == 0 and x % 3 == 0, l5))"
   ]
  },
  {
   "cell_type": "markdown",
   "id": "58ffad47",
   "metadata": {},
   "source": [
    "# Q6. Write a python program to find the palindrome in the given list of strings using lambda and filter function?"
   ]
  },
  {
   "cell_type": "code",
   "execution_count": 10,
   "id": "2a9890d1",
   "metadata": {},
   "outputs": [],
   "source": [
    "# Given List-->  ['python', 'php', 'aba', 'radar', 'level']"
   ]
  },
  {
   "cell_type": "code",
   "execution_count": 15,
   "id": "0b2b8426",
   "metadata": {},
   "outputs": [],
   "source": [
    "lg = ['python', 'php', 'aba', 'radar', 'level']\n",
    "\n",
    "    "
   ]
  },
  {
   "cell_type": "code",
   "execution_count": 28,
   "id": "33849bd6",
   "metadata": {},
   "outputs": [
    {
     "data": {
      "text/plain": [
       "['php', 'aba', 'radar', 'level']"
      ]
     },
     "execution_count": 28,
     "metadata": {},
     "output_type": "execute_result"
    }
   ],
   "source": [
    "l=[\"python\", \"php\",\"aba\",\"radar\",\"level\"]\n",
    "list(filter(lambda x:(x==\"\".join(reversed(x))),l))\n"
   ]
  }
 ],
 "metadata": {
  "kernelspec": {
   "display_name": "Python 3 (ipykernel)",
   "language": "python",
   "name": "python3"
  },
  "language_info": {
   "codemirror_mode": {
    "name": "ipython",
    "version": 3
   },
   "file_extension": ".py",
   "mimetype": "text/x-python",
   "name": "python",
   "nbconvert_exporter": "python",
   "pygments_lexer": "ipython3",
   "version": "3.9.13"
  }
 },
 "nbformat": 4,
 "nbformat_minor": 5
}

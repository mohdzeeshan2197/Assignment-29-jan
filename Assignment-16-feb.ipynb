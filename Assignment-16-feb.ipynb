{
 "cells": [
  {
   "cell_type": "markdown",
   "id": "5e2ffdfd",
   "metadata": {},
   "source": [
    "# Q1. What is a database? Differentiate between SQL and NoSQL databases."
   ]
  },
  {
   "cell_type": "markdown",
   "id": "d4376bad",
   "metadata": {},
   "source": [
    "Ans. Database is a collection of data that is organized which is also called structured data.\n",
    "     sql are primariliy called as relational database whereas Nosql are primariliy called as Non structured data base \n",
    "     sql database defines and manuplilate based on structured query language where as Nosql has dynamic schema for unstructured data, data is stored i many ways which mean it can be in document oriented, coloum oriented organised as key value pairs  \n",
    "     sql follows ACID property whereas Nosql follows CAP (consistancy, availiblity, partition tolerence)"
   ]
  },
  {
   "cell_type": "markdown",
   "id": "899ca8bb",
   "metadata": {},
   "source": [
    "# Q2. What is DDL? Explain why CREATE, DROP, ALTER, and TRUNCATE are used with an example."
   ]
  },
  {
   "cell_type": "markdown",
   "id": "f4a78466",
   "metadata": {},
   "source": [
    "Ans. DDl is data definition lamnguage, which deals with data base schema\n",
    "\n",
    "CREATE --> To create a database and its objects like(index , table,view, function and trigger)\n",
    "DROP -->  deletes objects from database\n",
    "ALTER --> alter the strucured of existing data base\n",
    "TRUNCATE --> remove all record from table, including all spaces allocatesd for the recods are removed"
   ]
  },
  {
   "cell_type": "markdown",
   "id": "a1a8e4f9",
   "metadata": {},
   "source": [
    "# Q3. What is DML? Explain INSERT, UPDATE, and DELETE with an example."
   ]
  },
  {
   "cell_type": "markdown",
   "id": "0ea8a41c",
   "metadata": {},
   "source": [
    "Ans. DML is data manuplition language which deals with data manipulation and incldes mosrt common SQL statemnet suvch as SELECT, INSERT, UPDATE,DELETE.\n",
    "\n",
    "INSERT --> insert data into a table\n",
    "UPDATE --> update existing data in a table \n",
    "DELETE --> delete all recods from a database table"
   ]
  },
  {
   "cell_type": "markdown",
   "id": "66e8800e",
   "metadata": {},
   "source": [
    "# Q4. What is DQL? Explain SELECT with an example."
   ]
  },
  {
   "cell_type": "markdown",
   "id": "be0e515f",
   "metadata": {},
   "source": [
    "Ans. DQL is data Query language is uesd to performing queries on the data within schema  objects\n",
    "\n",
    "SELECT --> it is used to retirive data from a database\n"
   ]
  },
  {
   "cell_type": "markdown",
   "id": "c7fc8e03",
   "metadata": {},
   "source": [
    "# Q5. Explain Primary Key and Foreign Key."
   ]
  },
  {
   "cell_type": "markdown",
   "id": "28ca4e14",
   "metadata": {},
   "source": [
    "primary key is constraint uniquely identifies each record in a table\n",
    "\n",
    "foreign key is constraint is used to prevent action that would destroy link between tables"
   ]
  },
  {
   "cell_type": "markdown",
   "id": "d3def87a",
   "metadata": {},
   "source": [
    "# Q6. Write a python code to connect MySQL to python. Explain the cursor() and execute() method."
   ]
  },
  {
   "cell_type": "code",
   "execution_count": 3,
   "id": "7d4dd531",
   "metadata": {},
   "outputs": [],
   "source": [
    "# Ans. \n",
    "import mysql.connector\n",
    "mydb = mysql.connector.connect(\n",
    "    host = \"localhost\",\n",
    "    user = \"abc\",\n",
    "    password = \"password\"\n",
    ")\n",
    "\n",
    "mycursor = mydb.cursor()\n",
    "mycursor.execute(\"SHOW DATABASE\")"
   ]
  },
  {
   "cell_type": "markdown",
   "id": "5fcfe1b5",
   "metadata": {},
   "source": [
    "cursor() --> is a temprary or temporary work station it is allocated performing at the time of DML"
   ]
  },
  {
   "cell_type": "markdown",
   "id": "ef7b4f85",
   "metadata": {},
   "source": [
    "execute() --> is uesd to execute the command"
   ]
  },
  {
   "cell_type": "markdown",
   "id": "7822564d",
   "metadata": {},
   "source": [
    "# Q7. Give the order of execution of SQL clauses in an SQL query."
   ]
  },
  {
   "cell_type": "markdown",
   "id": "b3abe161",
   "metadata": {},
   "source": [
    "Ans. SQL has no order of execution. Is a declarative language. The optimizer is free to choose any order it feels appropriate to produce the best execution time. Given any SQL query, is basically impossible to anybody to pretend it knows the execution order."
   ]
  }
 ],
 "metadata": {
  "kernelspec": {
   "display_name": "Python 3 (ipykernel)",
   "language": "python",
   "name": "python3"
  },
  "language_info": {
   "codemirror_mode": {
    "name": "ipython",
    "version": 3
   },
   "file_extension": ".py",
   "mimetype": "text/x-python",
   "name": "python",
   "nbconvert_exporter": "python",
   "pygments_lexer": "ipython3",
   "version": "3.9.13"
  }
 },
 "nbformat": 4,
 "nbformat_minor": 5
}

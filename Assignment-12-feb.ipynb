{
 "cells": [
  {
   "cell_type": "markdown",
   "id": "3350360c",
   "metadata": {},
   "source": [
    "# Q1. What is an exception in python? Write the difference between exceptions and syntax error?"
   ]
  },
  {
   "cell_type": "markdown",
   "id": "a4fc9b96",
   "metadata": {},
   "source": [
    "Ans. If we have any suspicious code which may raise any error in the program as known as exceptions.\n",
    "exceptions error occurs in run time or as well as in compile time and it can be handle by try and Except block where syntax error are thosae error which may rise by writing wrong syntax in simple language we can say that spelling mistakes in words which is defined in python or wrong writing method like indentations"
   ]
  },
  {
   "cell_type": "markdown",
   "id": "8a3aa217",
   "metadata": {},
   "source": [
    "# Q2. What happen when an exception is not handeled?explain an example?"
   ]
  },
  {
   "cell_type": "markdown",
   "id": "7cddcc75",
   "metadata": {},
   "source": [
    "Ans. when an exception is not handeled it gives you an errors and the program will not executed after an error occurs.It terminates the program where an error raise"
   ]
  },
  {
   "cell_type": "code",
   "execution_count": 3,
   "id": "5a164e42",
   "metadata": {},
   "outputs": [
    {
     "ename": "ZeroDivisionError",
     "evalue": "division by zero",
     "output_type": "error",
     "traceback": [
      "\u001b[1;31m---------------------------------------------------------------------------\u001b[0m",
      "\u001b[1;31mZeroDivisionError\u001b[0m                         Traceback (most recent call last)",
      "\u001b[1;32m~\\AppData\\Local\\Temp\\ipykernel_10356\\959701839.py\u001b[0m in \u001b[0;36m<module>\u001b[1;34m\u001b[0m\n\u001b[0;32m      1\u001b[0m \u001b[1;31m# ex.\u001b[0m\u001b[1;33m\u001b[0m\u001b[1;33m\u001b[0m\u001b[0m\n\u001b[0;32m      2\u001b[0m \u001b[0ma\u001b[0m \u001b[1;33m=\u001b[0m \u001b[1;36m6\u001b[0m\u001b[1;33m\u001b[0m\u001b[1;33m\u001b[0m\u001b[0m\n\u001b[1;32m----> 3\u001b[1;33m \u001b[0mdivide\u001b[0m \u001b[1;33m=\u001b[0m \u001b[0ma\u001b[0m \u001b[1;33m/\u001b[0m \u001b[1;36m0\u001b[0m\u001b[1;33m\u001b[0m\u001b[1;33m\u001b[0m\u001b[0m\n\u001b[0m\u001b[0;32m      4\u001b[0m \u001b[0mprint\u001b[0m\u001b[1;33m(\u001b[0m\u001b[1;34m\"this is my a with value 6 and i want to divide by 0\"\u001b[0m\u001b[1;33m)\u001b[0m\u001b[1;33m\u001b[0m\u001b[1;33m\u001b[0m\u001b[0m\n\u001b[0;32m      5\u001b[0m \u001b[0msum\u001b[0m \u001b[1;33m=\u001b[0m \u001b[1;36m35\u001b[0m\u001b[1;33m+\u001b[0m\u001b[1;36m87\u001b[0m\u001b[1;33m\u001b[0m\u001b[1;33m\u001b[0m\u001b[0m\n",
      "\u001b[1;31mZeroDivisionError\u001b[0m: division by zero"
     ]
    }
   ],
   "source": [
    "# ex.                                              \n",
    "a = 6\n",
    "divide = a / 0\n",
    "print(\"this is my a with value 6 and i want to divide by 0\") # gives an error DivisionbyZero error \n",
    "sum = 35+87                                   # this is right but canniot executes becouse an error occur before it \n",
    "print(sum)"
   ]
  },
  {
   "cell_type": "markdown",
   "id": "6575e340",
   "metadata": {},
   "source": [
    "# Q3. which python statemnt is used to catch and handle exceptions?explain with an example?"
   ]
  },
  {
   "cell_type": "markdown",
   "id": "1092006e",
   "metadata": {},
   "source": [
    "in python we use\n",
    "\n",
    "try:\n",
    "    suspicious code\n",
    "except:\n",
    "    print(\"error\")\n",
    "\n",
    "for handling exceptions\n"
   ]
  },
  {
   "cell_type": "code",
   "execution_count": 4,
   "id": "7991d5a2",
   "metadata": {},
   "outputs": [
    {
     "name": "stdout",
     "output_type": "stream",
     "text": [
      "Your error Type is: division by zero\n"
     ]
    }
   ],
   "source": [
    "# Ex. \n",
    "\n",
    "try :\n",
    "    p = 5/0\n",
    "except Exception as e :\n",
    "    print(\"Your error Type is:\",e)\n",
    "\n",
    "\n"
   ]
  },
  {
   "cell_type": "markdown",
   "id": "dcfa232c",
   "metadata": {},
   "source": [
    "# Q4. Explain with an example?\n",
    "1.try and else\n",
    "2.finally\n",
    "3.raise"
   ]
  },
  {
   "cell_type": "code",
   "execution_count": 5,
   "id": "37e13073",
   "metadata": {},
   "outputs": [
    {
     "name": "stdout",
     "output_type": "stream",
     "text": [
      "Thse sum of two number is  15\n"
     ]
    }
   ],
   "source": [
    "# 1. try and else\n",
    "\n",
    "try :\n",
    "    a = 5\n",
    "    b = 10\n",
    "    sum = a + b\n",
    "\n",
    "except Exception as e :\n",
    "    \n",
    "    print(\"Error type:\",e)\n",
    "\n",
    "else:\n",
    "    \n",
    "    print(\"Thse sum of two number is \",sum)\n",
    "\n"
   ]
  },
  {
   "cell_type": "code",
   "execution_count": 10,
   "id": "d644b132",
   "metadata": {},
   "outputs": [
    {
     "name": "stdout",
     "output_type": "stream",
     "text": [
      "Error type: division by zero\n",
      "Finally is always executed under any circumtances \n",
      "Thse sum of two number is  15\n"
     ]
    }
   ],
   "source": [
    "# 2. finally\n",
    "\n",
    "try :\n",
    "\n",
    "    a = 99\n",
    "    b = 0\n",
    "    div = a / b\n",
    "\n",
    "except Exception as e :\n",
    "    \n",
    "    print(\"Error type:\",e)\n",
    "    \n",
    "else :\n",
    "    \n",
    "    print(\"The division of two number is \",div)\n",
    "\n",
    "finally:\n",
    "    \n",
    "    print(\"Finally is always executed under any circumtances \")\n",
    "    \n",
    "    try :\n",
    "        a = 5\n",
    "        b = 10\n",
    "        sum = a + b\n",
    "\n",
    "    except Exception as e :\n",
    "    \n",
    "        print(\"Error type:\",e)\n",
    "\n",
    "    else:\n",
    "    \n",
    "        print(\"Thse sum of two number is \",sum)\n",
    "\n",
    "\n",
    "    \n",
    "    \n",
    "\n"
   ]
  },
  {
   "cell_type": "code",
   "execution_count": 11,
   "id": "6993da74",
   "metadata": {},
   "outputs": [
    {
     "ename": "ValueError",
     "evalue": "string cannot convert in integer",
     "output_type": "error",
     "traceback": [
      "\u001b[1;31m---------------------------------------------------------------------------\u001b[0m",
      "\u001b[1;31mValueError\u001b[0m                                Traceback (most recent call last)",
      "\u001b[1;32m~\\AppData\\Local\\Temp\\ipykernel_10356\\1889561845.py\u001b[0m in \u001b[0;36m<module>\u001b[1;34m\u001b[0m\n\u001b[0;32m      3\u001b[0m \u001b[1;32mtry\u001b[0m \u001b[1;33m:\u001b[0m\u001b[1;33m\u001b[0m\u001b[1;33m\u001b[0m\u001b[0m\n\u001b[1;32m----> 4\u001b[1;33m     \u001b[0mint\u001b[0m\u001b[1;33m(\u001b[0m\u001b[1;34m'sudh'\u001b[0m\u001b[1;33m)\u001b[0m\u001b[1;33m\u001b[0m\u001b[1;33m\u001b[0m\u001b[0m\n\u001b[0m\u001b[0;32m      5\u001b[0m \u001b[1;32mexcept\u001b[0m \u001b[0mValueError\u001b[0m \u001b[1;32mas\u001b[0m \u001b[0me\u001b[0m\u001b[1;33m:\u001b[0m\u001b[1;33m\u001b[0m\u001b[1;33m\u001b[0m\u001b[0m\n",
      "\u001b[1;31mValueError\u001b[0m: invalid literal for int() with base 10: 'sudh'",
      "\nDuring handling of the above exception, another exception occurred:\n",
      "\u001b[1;31mValueError\u001b[0m                                Traceback (most recent call last)",
      "\u001b[1;32m~\\AppData\\Local\\Temp\\ipykernel_10356\\1889561845.py\u001b[0m in \u001b[0;36m<module>\u001b[1;34m\u001b[0m\n\u001b[0;32m      4\u001b[0m     \u001b[0mint\u001b[0m\u001b[1;33m(\u001b[0m\u001b[1;34m'sudh'\u001b[0m\u001b[1;33m)\u001b[0m\u001b[1;33m\u001b[0m\u001b[1;33m\u001b[0m\u001b[0m\n\u001b[0;32m      5\u001b[0m \u001b[1;32mexcept\u001b[0m \u001b[0mValueError\u001b[0m \u001b[1;32mas\u001b[0m \u001b[0me\u001b[0m\u001b[1;33m:\u001b[0m\u001b[1;33m\u001b[0m\u001b[1;33m\u001b[0m\u001b[0m\n\u001b[1;32m----> 6\u001b[1;33m     \u001b[1;32mraise\u001b[0m \u001b[0mValueError\u001b[0m\u001b[1;33m(\u001b[0m\u001b[1;34m\"string cannot convert in integer\"\u001b[0m\u001b[1;33m)\u001b[0m\u001b[1;33m\u001b[0m\u001b[1;33m\u001b[0m\u001b[0m\n\u001b[0m\u001b[0;32m      7\u001b[0m \u001b[1;33m\u001b[0m\u001b[0m\n",
      "\u001b[1;31mValueError\u001b[0m: string cannot convert in integer"
     ]
    }
   ],
   "source": [
    "# 3 raise\n",
    "\n",
    "try :\n",
    "    int('sudh')\n",
    "except ValueError as e:\n",
    "    raise ValueError(\"string cannot convert in integer\")\n",
    "\n"
   ]
  },
  {
   "cell_type": "markdown",
   "id": "2b7ec4d8",
   "metadata": {},
   "source": [
    "# Q5. what are custom exception in python? why do we need of custon exception? Give an example?"
   ]
  },
  {
   "cell_type": "markdown",
   "id": "6c53a074",
   "metadata": {},
   "source": [
    "Ans. custom Exception is the exception which is defined by the-use also known as user-defined exceptions that are created by the new class derived by the built-in form Exception class , It allow user to handle a specific error in the programwith raise,except,try keywords"
   ]
  },
  {
   "cell_type": "code",
   "execution_count": 36,
   "id": "d337ec09",
   "metadata": {},
   "outputs": [],
   "source": [
    "def myerror(age):\n",
    "    if age < 0:\n",
    "        raise myerror_class(\"The age is negative\")\n",
    "    elif age > 200:\n",
    "        raise myerror_class(\"The age is very very high\")\n",
    "    else:\n",
    "        print(\"The age is valid\")\n",
    "        \n",
    "    "
   ]
  },
  {
   "cell_type": "code",
   "execution_count": 37,
   "id": "db47598e",
   "metadata": {},
   "outputs": [
    {
     "name": "stdout",
     "output_type": "stream",
     "text": [
      "enter age -88\n"
     ]
    },
    {
     "ename": "myerror_class",
     "evalue": "The age is negative",
     "output_type": "error",
     "traceback": [
      "\u001b[1;31m---------------------------------------------------------------------------\u001b[0m",
      "\u001b[1;31mmyerror_class\u001b[0m                             Traceback (most recent call last)",
      "\u001b[1;32m~\\AppData\\Local\\Temp\\ipykernel_10356\\296183134.py\u001b[0m in \u001b[0;36m<module>\u001b[1;34m\u001b[0m\n\u001b[0;32m      1\u001b[0m \u001b[0mn\u001b[0m \u001b[1;33m=\u001b[0m \u001b[0mint\u001b[0m\u001b[1;33m(\u001b[0m\u001b[0minput\u001b[0m\u001b[1;33m(\u001b[0m\u001b[1;34m\"enter age \"\u001b[0m\u001b[1;33m)\u001b[0m\u001b[1;33m)\u001b[0m\u001b[1;33m\u001b[0m\u001b[1;33m\u001b[0m\u001b[0m\n\u001b[1;32m----> 2\u001b[1;33m \u001b[0mmyerror\u001b[0m\u001b[1;33m(\u001b[0m\u001b[0mn\u001b[0m\u001b[1;33m)\u001b[0m\u001b[1;33m\u001b[0m\u001b[1;33m\u001b[0m\u001b[0m\n\u001b[0m",
      "\u001b[1;32m~\\AppData\\Local\\Temp\\ipykernel_10356\\3088544774.py\u001b[0m in \u001b[0;36mmyerror\u001b[1;34m(age)\u001b[0m\n\u001b[0;32m      1\u001b[0m \u001b[1;32mdef\u001b[0m \u001b[0mmyerror\u001b[0m\u001b[1;33m(\u001b[0m\u001b[0mage\u001b[0m\u001b[1;33m)\u001b[0m\u001b[1;33m:\u001b[0m\u001b[1;33m\u001b[0m\u001b[1;33m\u001b[0m\u001b[0m\n\u001b[0;32m      2\u001b[0m     \u001b[1;32mif\u001b[0m \u001b[0mage\u001b[0m \u001b[1;33m<\u001b[0m \u001b[1;36m0\u001b[0m\u001b[1;33m:\u001b[0m\u001b[1;33m\u001b[0m\u001b[1;33m\u001b[0m\u001b[0m\n\u001b[1;32m----> 3\u001b[1;33m         \u001b[1;32mraise\u001b[0m \u001b[0mmyerror_class\u001b[0m\u001b[1;33m(\u001b[0m\u001b[1;34m\"The age is negative\"\u001b[0m\u001b[1;33m)\u001b[0m\u001b[1;33m\u001b[0m\u001b[1;33m\u001b[0m\u001b[0m\n\u001b[0m\u001b[0;32m      4\u001b[0m     \u001b[1;32melif\u001b[0m \u001b[0mage\u001b[0m \u001b[1;33m>\u001b[0m \u001b[1;36m200\u001b[0m\u001b[1;33m:\u001b[0m\u001b[1;33m\u001b[0m\u001b[1;33m\u001b[0m\u001b[0m\n\u001b[0;32m      5\u001b[0m         \u001b[1;32mraise\u001b[0m \u001b[0mmyerror_class\u001b[0m\u001b[1;33m(\u001b[0m\u001b[1;34m\"The age is very very high\"\u001b[0m\u001b[1;33m)\u001b[0m\u001b[1;33m\u001b[0m\u001b[1;33m\u001b[0m\u001b[0m\n",
      "\u001b[1;31mmyerror_class\u001b[0m: The age is negative"
     ]
    }
   ],
   "source": [
    "n = int(input(\"enter age \"))\n",
    "myerror(n)\n"
   ]
  },
  {
   "cell_type": "markdown",
   "id": "103d2764",
   "metadata": {},
   "source": [
    "# Q6. Create a custon Exception class ?use this class to handle exception?"
   ]
  },
  {
   "cell_type": "code",
   "execution_count": 5,
   "id": "bdc33d9a",
   "metadata": {},
   "outputs": [
    {
     "name": "stdout",
     "output_type": "stream",
     "text": [
      "Enter number: 0\n",
      "Enter Number is zero\n"
     ]
    }
   ],
   "source": [
    "class zero_enter_error(Exception):\n",
    "    pass\n",
    "\n",
    "\n",
    "try :\n",
    "    n = int(input(\"Enter number: \"))\n",
    "    if n == 0 :\n",
    "        raise zero_enter_error\n",
    "    else:\n",
    "        print(\"Valid Number\")\n",
    "except zero_enter_error:\n",
    "        print(\"Enter Number is zero\")"
   ]
  },
  {
   "cell_type": "code",
   "execution_count": null,
   "id": "4a162876",
   "metadata": {},
   "outputs": [],
   "source": []
  }
 ],
 "metadata": {
  "kernelspec": {
   "display_name": "Python 3 (ipykernel)",
   "language": "python",
   "name": "python3"
  },
  "language_info": {
   "codemirror_mode": {
    "name": "ipython",
    "version": 3
   },
   "file_extension": ".py",
   "mimetype": "text/x-python",
   "name": "python",
   "nbconvert_exporter": "python",
   "pygments_lexer": "ipython3",
   "version": "3.9.13"
  }
 },
 "nbformat": 4,
 "nbformat_minor": 5
}

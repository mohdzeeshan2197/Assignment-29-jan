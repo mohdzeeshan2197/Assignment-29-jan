{
 "cells": [
  {
   "cell_type": "markdown",
   "id": "029275b1",
   "metadata": {},
   "source": [
    "# This is the Assignment in PWskill 23- jan-2023"
   ]
  },
  {
   "cell_type": "markdown",
   "id": "70e8394f",
   "metadata": {},
   "source": [
    "1. who develop python programming language?"
   ]
  },
  {
   "cell_type": "code",
   "execution_count": null,
   "id": "1f158e03",
   "metadata": {},
   "outputs": [],
   "source": [
    "Ans. Python was created by Guido Van Rossum and released in 1991."
   ]
  },
  {
   "cell_type": "markdown",
   "id": "bfb3230b",
   "metadata": {},
   "source": [
    "2. Which type of programming does Python support?"
   ]
  },
  {
   "cell_type": "code",
   "execution_count": null,
   "id": "30e26c1c",
   "metadata": {},
   "outputs": [],
   "source": [
    "Ans. Python support object-oriented and procedural programming."
   ]
  },
  {
   "cell_type": "markdown",
   "id": "0bf04c79",
   "metadata": {},
   "source": [
    "3. Is Python case sensitive when dealing with Identifiers?"
   ]
  },
  {
   "cell_type": "code",
   "execution_count": null,
   "id": "1de5fbbf",
   "metadata": {},
   "outputs": [],
   "source": [
    "Ans. Yes, Python is case sensitive language, In python the uppercase and lower case treated diffently.\n",
    "     It is also applicable with identifiers"
   ]
  },
  {
   "cell_type": "markdown",
   "id": "41d8bfb4",
   "metadata": {},
   "source": [
    "4. What is the correct extension of python file?"
   ]
  },
  {
   "cell_type": "code",
   "execution_count": null,
   "id": "2ec2fc7e",
   "metadata": {},
   "outputs": [],
   "source": [
    "Ans. the correct extension of python file is (.py)"
   ]
  },
  {
   "cell_type": "markdown",
   "id": "c7978217",
   "metadata": {},
   "source": [
    "5. Is python code is compiled or interpreted?"
   ]
  },
  {
   "cell_type": "code",
   "execution_count": null,
   "id": "3980f81b",
   "metadata": {},
   "outputs": [],
   "source": [
    "Ans. Python is a “COMPILED INTERPRETED” language. This means when the Python program is run, First Python checks for program syntax.\n",
    "     Compiles and converts it to bytecode, and directly bytecode is loaded in system memory. Then compiled bytecode interpreted from memory to execute it."
   ]
  },
  {
   "cell_type": "markdown",
   "id": "8da801a0",
   "metadata": {},
   "source": [
    "6. Name a few blocks of code used to defined in python programming?"
   ]
  },
  {
   "cell_type": "code",
   "execution_count": null,
   "id": "aee49883",
   "metadata": {},
   "outputs": [],
   "source": [
    "Ans. Python functions are blocks of code that can perform a function. It promotes the reusability of the code and allows to reduce the effort  Below is an example to print a string in Python"
   ]
  },
  {
   "cell_type": "markdown",
   "id": "39b7d765",
   "metadata": {},
   "source": [
    "7. State a character used to give single line commentin python?"
   ]
  },
  {
   "cell_type": "code",
   "execution_count": null,
   "id": "cebcd45f",
   "metadata": {},
   "outputs": [],
   "source": [
    "Ans. (#), is used for single line comment "
   ]
  },
  {
   "cell_type": "markdown",
   "id": "dd8a5e70",
   "metadata": {},
   "source": [
    "8. Name the function which is used to find the version of python which is currently in used?"
   ]
  },
  {
   "cell_type": "code",
   "execution_count": null,
   "id": "5dcc1b90",
   "metadata": {},
   "outputs": [],
   "source": [
    "Ans. simply open powershell or terminal and write a command i.e python --version"
   ]
  },
  {
   "cell_type": "markdown",
   "id": "816d33ae",
   "metadata": {},
   "source": [
    "9. Python support the creation of anonymous function at runtime a constructor is called________?"
   ]
  },
  {
   "cell_type": "code",
   "execution_count": null,
   "id": "0c9b0542",
   "metadata": {},
   "outputs": [],
   "source": [
    "Ans. Python support the creation of anonymous function at runtime a constructor is called Lambda function"
   ]
  },
  {
   "cell_type": "markdown",
   "id": "ef4d8eb3",
   "metadata": {},
   "source": [
    "10. What does pip stand for python?"
   ]
  },
  {
   "cell_type": "code",
   "execution_count": null,
   "id": "f87ebee5",
   "metadata": {},
   "outputs": [],
   "source": [
    "Ans. PIP stands for Precise Infectious Packages, it is a repository of software for python\n",
    "     pip is used to install, remove,and update pyhon packages"
   ]
  },
  {
   "cell_type": "markdown",
   "id": "3fb34ade",
   "metadata": {},
   "source": [
    "11. Mention a few built-in function in python?"
   ]
  },
  {
   "cell_type": "code",
   "execution_count": null,
   "id": "2c15e6a8",
   "metadata": {},
   "outputs": [],
   "source": [
    "Ans. some built-in functions are :-\n",
    "    len()\n",
    "    str()\n",
    "    int()\n",
    "    float()\n",
    "    input()\n",
    "    print()\n",
    "    type()"
   ]
  },
  {
   "cell_type": "markdown",
   "id": "39832c78",
   "metadata": {},
   "source": [
    "12. What is the maximum possible length of an identifier?"
   ]
  },
  {
   "cell_type": "code",
   "execution_count": null,
   "id": "36a9d3d4",
   "metadata": {},
   "outputs": [],
   "source": [
    "Ans. The maximum possible length of an identifier is not defined in python, it can be of any number"
   ]
  },
  {
   "cell_type": "markdown",
   "id": "fead8ee8",
   "metadata": {},
   "source": [
    "13. What are the benefits of using python?"
   ]
  },
  {
   "cell_type": "code",
   "execution_count": null,
   "id": "893a9058",
   "metadata": {},
   "outputs": [],
   "source": [
    "Ans. Some of the benefits of Pythons are :-\n",
    "     python is easy to understand\n",
    "     it has built-in data structures \n",
    "     extensive support of libraries\n",
    "     object-oriented\n",
    "     Dynamically typed language\n",
    "     open source\n",
    "     presence of third-party modules\n",
    "     high-level language"
   ]
  },
  {
   "cell_type": "markdown",
   "id": "3c710f66",
   "metadata": {},
   "source": [
    "14. How is memory is managed in python?"
   ]
  },
  {
   "cell_type": "code",
   "execution_count": null,
   "id": "ed91874f",
   "metadata": {},
   "outputs": [],
   "source": [
    "Ans. In python the memory allocation and deallocation method is automatic as the python developer creates garbage collector for python and \n",
    "     the user does not have to do manual garbage collector"
   ]
  },
  {
   "cell_type": "markdown",
   "id": "eb629b6c",
   "metadata": {},
   "source": [
    "15. How to install python and set path variables?"
   ]
  },
  {
   "cell_type": "code",
   "execution_count": null,
   "id": "baaa7dcf",
   "metadata": {},
   "outputs": [],
   "source": [
    "Ans. first, download python from python.org and then simply choose operating system you use and then click download, After downloading intall it like a game it is very easy to install and during installing it show the path where is install in drive c  , then open the folder of python where is installed and search for bin folder and copy the path or the bin folder and then simply open environment variable of the system and add new path and apply ok, path is set"
   ]
  },
  {
   "cell_type": "markdown",
   "id": "f842f289",
   "metadata": {},
   "source": [
    "16. Is Indentation is required in python?"
   ]
  },
  {
   "cell_type": "code",
   "execution_count": null,
   "id": "729d0607",
   "metadata": {},
   "outputs": [],
   "source": [
    "python indentation refers to adding white space before a statement to a particular block of code. In another word, all the statements with the same space to the right, belong to the same code block."
   ]
  }
 ],
 "metadata": {
  "kernelspec": {
   "display_name": "Python 3 (ipykernel)",
   "language": "python",
   "name": "python3"
  },
  "language_info": {
   "codemirror_mode": {
    "name": "ipython",
    "version": 3
   },
   "file_extension": ".py",
   "mimetype": "text/x-python",
   "name": "python",
   "nbconvert_exporter": "python",
   "pygments_lexer": "ipython3",
   "version": "3.9.12"
  }
 },
 "nbformat": 4,
 "nbformat_minor": 5
}

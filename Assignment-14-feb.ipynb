{
 "cells": [
  {
   "cell_type": "markdown",
   "id": "b5128c66",
   "metadata": {},
   "source": [
    "# Q1. What is multithreading in python? why is it used? Name the module used to handle threads in python"
   ]
  },
  {
   "cell_type": "markdown",
   "id": "17b018ad",
   "metadata": {},
   "source": [
    "It is the execution of a tiny sequence of program instruction that can be managed independently and is a distinctive part of the operating system. Modern OS manages multiple programs using a time-sharing technique. In Python, there are two different kinds of thread. These are:\n",
    "\n",
    "Kernel Threads\n",
    "User-space threads or User threads"
   ]
  },
  {
   "cell_type": "markdown",
   "id": "aae154ef",
   "metadata": {},
   "source": [
    "Thread plays a significant role in application programming. All the GUI programs and web servers are threaded together. The main reasons for using threads are:"
   ]
  },
  {
   "cell_type": "markdown",
   "id": "4faa8e2f",
   "metadata": {},
   "source": [
    "Parallel Computation, Standardization, Parallel I/O (Input/Output), Asynchronous Events "
   ]
  },
  {
   "cell_type": "markdown",
   "id": "178571e1",
   "metadata": {},
   "source": [
    "# Q2. why threading module used? write the use of the following functions"
   ]
  },
  {
   "cell_type": "markdown",
   "id": "611f7d88",
   "metadata": {},
   "source": [
    " The threading module is used in python to crate and manage threads in a multi-threaded application.It provides a way to create new threads,synchronization their operations,and communication between them.\n",
    "        \n",
    "        1.activeCount()-This function returns the number of active thread objects in the current thread's thread control block.It can be useful for debugging purposes,or to ensure that all threads have completed before exiting a program.\n",
    "        2.currentThread()-This function returns a reference to the current thread object which can be useful for identifying the current thread's name,thread ID,or other attributes.\n",
    "        3.enumerate()-This function returns a list of all active thread objects in the current process.It can be used to get information about all the"
   ]
  },
  {
   "cell_type": "markdown",
   "id": "0c37e24b",
   "metadata": {},
   "source": [
    "# Q3. Explain the following functions\n",
    "1 run\n",
    "2 start\n",
    "3 join\n",
    "4 isAlive()"
   ]
  },
  {
   "cell_type": "markdown",
   "id": "9eef1a6d",
   "metadata": {},
   "source": [
    "1.run()-This method is called when a thread is started using the 'start()'method.It contains this code that will be executed in the thread and can be overriden in a subclass to implement custom bahaviour.It is important to note that you should not call this method directly,but instead use the'start()'method to start the thread.\n",
    "\n",
    "2.start()-This method starts the executionof the thread.when this method is called,a new thread is crated and the'run()'method of the thread is executed in parallel with the main thread.It is important to note that you can only call the 'start()' method once on a thread object.\n",
    "\n",
    "3.join()-This method blocks the calling thread until the thread on which itis called has completed its execution.It can be used to synchronization the execution of multiple threasa in a program and to ensure that all threads have completed before the program teminates.The 'join(0' method can also accept an optional timeout parameter,which specifies the maximum amount of the time to wait for the thread to complete before continuing with the execution of the calling thread.\n",
    "\n",
    "4.isAlive()-This method returns a boolean value indicating whether the thread is currently executing or not.If the thread has not been started or has completed"
   ]
  },
  {
   "cell_type": "markdown",
   "id": "3343894f",
   "metadata": {},
   "source": [
    "# Q4. write a python program to create two threads. Thread one must print the list of squares and threadtwo must print the list of cubes"
   ]
  },
  {
   "cell_type": "code",
   "execution_count": 20,
   "id": "955da68e",
   "metadata": {},
   "outputs": [
    {
     "name": "stdout",
     "output_type": "stream",
     "text": [
      "The square of 1 is 1\n",
      "The square of 2 is 4\n",
      "The square of 3 is 9\n",
      "The square of 4 is 16\n",
      "The square of 5 is 25\n",
      "The square of 6 is 36\n",
      "The square of 7 is 49\n",
      "The square of 8 is 64\n",
      "The square of 9 is 81\n",
      "The square of 10 is 100\n",
      "The cube of 1 is 1\n",
      "The cube of 2 is 8\n",
      "The cube of 3 is 27\n",
      "The cube of 4 is 64\n",
      "The cube of 5 is 125\n",
      "The cube of 6 is 216\n",
      "The cube of 7 is 343\n",
      "The cube of 8 is 512\n",
      "The cube of 9 is 729\n",
      "The cube of 10 is 1000\n"
     ]
    }
   ],
   "source": [
    "from threading import Thread\n",
    "\n",
    "def square():\n",
    "    \n",
    "    for i in range(1,11):\n",
    "        print(f\"The square of {i} is {i**2}\")\n",
    "        \n",
    "        \n",
    "def cube():\n",
    "    \n",
    "    for i in range(1,11):\n",
    "        print(f\"The cube of {i} is {i**3}\")\n",
    "        \n",
    "        \n",
    "th1 = Thread(target= square)\n",
    "th2 = Thread(target = cube)\n",
    "\n",
    "th1.start()\n",
    "th2.start()\n",
    "\n",
    "th1.join()\n",
    "th2.join()\n"
   ]
  },
  {
   "cell_type": "markdown",
   "id": "d12eed18",
   "metadata": {},
   "source": [
    "# Q5. State advantages and disadvantages of multithreading"
   ]
  },
  {
   "cell_type": "markdown",
   "id": "5aa7ee2c",
   "metadata": {},
   "source": [
    " Multithrading is a powerful programming technique that allows a program to execute multiple threads of control con currently,within the same process.\n",
    "    \n",
    "    Advantages:\n",
    "        1.Improved performance\n",
    "        2.Responsiveness\n",
    "        3.Resource sharing\n",
    "        4.Modularity\n",
    "        \n",
    "        \n",
    "    Disadvantages:\n",
    "        1.Complexity\n",
    "        2.Synchronization\n",
    "        3.Increased memory usage\n",
    "        4.Overhead"
   ]
  },
  {
   "cell_type": "markdown",
   "id": "9db4c82d",
   "metadata": {},
   "source": [
    "# Q6. Explain deadlocks and race conditions."
   ]
  },
  {
   "cell_type": "markdown",
   "id": "cc65c1ba",
   "metadata": {},
   "source": [
    " Deadlock: A deadlock occurs when two or more threads are waiting for each other to release a resources,such as a lock or a semaphore,that they need to continue execution.\n",
    "    In other words,each thread is blocked and waiting for a resource that another thread is holding, and the program becomes stuck in a state where no progress can be made.Deadlocks are serious problem in multithreaded programs and can be difficult to detect and resolve.\n",
    "    \n",
    "    Race condition:A race condition occurs when the behaviour of a program depends on the relatives timing and interleaving of events between two or more threads.\n",
    "    In other words,the outcome of the program can vary depending on the order in which the threads execute.This can lead to predictable or incorrect behaviour,such as data corruption or incorrect program results.Race conditions can occurs when multiple threads access and modify shared resources without proper synchronization or mutual exclusion,leading to data inconsistency and errors.\n",
    "    \n",
    "    To avoid deadlocks and race condtions in multithreaded programs,it is important to follow best practices such as proper synchronization and mutual exclusion,careful design and testing,and using appropriate concurrency libraries and tools.\n",
    "        "
   ]
  }
 ],
 "metadata": {
  "kernelspec": {
   "display_name": "Python 3 (ipykernel)",
   "language": "python",
   "name": "python3"
  },
  "language_info": {
   "codemirror_mode": {
    "name": "ipython",
    "version": 3
   },
   "file_extension": ".py",
   "mimetype": "text/x-python",
   "name": "python",
   "nbconvert_exporter": "python",
   "pygments_lexer": "ipython3",
   "version": "3.9.13"
  }
 },
 "nbformat": 4,
 "nbformat_minor": 5
}

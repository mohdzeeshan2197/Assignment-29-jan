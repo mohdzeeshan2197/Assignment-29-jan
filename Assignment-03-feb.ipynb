{
 "cells": [
  {
   "cell_type": "markdown",
   "id": "9cbc0d6d",
   "metadata": {},
   "source": [
    "# Q1. Which keyword is used for definig a function? create a function to create a list  of odd numbers in range 1-25?"
   ]
  },
  {
   "cell_type": "code",
   "execution_count": 22,
   "id": "92e37823",
   "metadata": {},
   "outputs": [],
   "source": [
    "#Ans. the def keyword is used to define a function. \n",
    "def odd():\n",
    "    '''This function give a list of odd Numbers'''\n",
    "    l = []\n",
    "    for i in range(1,26):\n",
    "        if i % 2 != 0:\n",
    "            l.append(i)\n",
    "        \n",
    "    return l\n",
    "\n",
    "    "
   ]
  },
  {
   "cell_type": "code",
   "execution_count": 25,
   "id": "2feaf70e",
   "metadata": {},
   "outputs": [
    {
     "data": {
      "text/plain": [
       "[1, 3, 5, 7, 9, 11, 13, 15, 17, 19, 21, 23, 25]"
      ]
     },
     "execution_count": 25,
     "metadata": {},
     "output_type": "execute_result"
    }
   ],
   "source": [
    "odd()"
   ]
  },
  {
   "cell_type": "markdown",
   "id": "953d82d3",
   "metadata": {},
   "source": [
    "# Q2. Why *args and **kwargs is used in some functions?create a function  of each *args and **kwargs to demonstrate their use?"
   ]
  },
  {
   "cell_type": "markdown",
   "id": "0c7bd006",
   "metadata": {},
   "source": [
    "Ans. *args and **kwargs is special type of symbols used for passing arguments\n",
    "      when we have  doubts about the numbers of arguments we should use *args and **kwargs \n",
    "      in *args return the value in tuple and **kwargs return the value in dictionay i.e key:value pairs\n",
    "      "
   ]
  },
  {
   "cell_type": "code",
   "execution_count": 28,
   "id": "446d074b",
   "metadata": {},
   "outputs": [],
   "source": [
    "#1. *args ex.\n",
    "\n",
    "def test(*args):\n",
    "    return args\n"
   ]
  },
  {
   "cell_type": "code",
   "execution_count": 29,
   "id": "dc6d8b5f",
   "metadata": {},
   "outputs": [
    {
     "data": {
      "text/plain": [
       "()"
      ]
     },
     "execution_count": 29,
     "metadata": {},
     "output_type": "execute_result"
    }
   ],
   "source": [
    "# calling function\n",
    "test()"
   ]
  },
  {
   "cell_type": "code",
   "execution_count": 30,
   "id": "29987fad",
   "metadata": {},
   "outputs": [
    {
     "data": {
      "text/plain": [
       "tuple"
      ]
     },
     "execution_count": 30,
     "metadata": {},
     "output_type": "execute_result"
    }
   ],
   "source": [
    "type(test())"
   ]
  },
  {
   "cell_type": "code",
   "execution_count": 33,
   "id": "d4f993f4",
   "metadata": {},
   "outputs": [
    {
     "data": {
      "text/plain": [
       "('Nice', 5, 6, 'course', 7, 5, 'Good', 56.4, 'Hello')"
      ]
     },
     "execution_count": 33,
     "metadata": {},
     "output_type": "execute_result"
    }
   ],
   "source": [
    "test(\"Nice\",5,6,\"course\",7,5,\"Good\",56.4,\"Hello\")"
   ]
  },
  {
   "cell_type": "code",
   "execution_count": 34,
   "id": "8ef95da8",
   "metadata": {},
   "outputs": [],
   "source": [
    "# 2. **kwargs\n",
    "\n",
    "def test2(**kwargs):\n",
    "    return kwargs"
   ]
  },
  {
   "cell_type": "code",
   "execution_count": 36,
   "id": "b79b51b1",
   "metadata": {},
   "outputs": [
    {
     "data": {
      "text/plain": [
       "{}"
      ]
     },
     "execution_count": 36,
     "metadata": {},
     "output_type": "execute_result"
    }
   ],
   "source": [
    "test2()"
   ]
  },
  {
   "cell_type": "code",
   "execution_count": 37,
   "id": "d7027c37",
   "metadata": {},
   "outputs": [
    {
     "data": {
      "text/plain": [
       "dict"
      ]
     },
     "execution_count": 37,
     "metadata": {},
     "output_type": "execute_result"
    }
   ],
   "source": [
    "type(test2())"
   ]
  },
  {
   "cell_type": "code",
   "execution_count": 43,
   "id": "254d0696",
   "metadata": {
    "scrolled": true
   },
   "outputs": [
    {
     "data": {
      "text/plain": [
       "{'key1': 5, 'key2': 2, 'key3': 3, 'key4': 'nice', 'key5': 'data'}"
      ]
     },
     "execution_count": 43,
     "metadata": {},
     "output_type": "execute_result"
    }
   ],
   "source": [
    "test2(key1=5, key2=2,key3=3,key4='nice',key5='data')"
   ]
  },
  {
   "cell_type": "markdown",
   "id": "853f5db5",
   "metadata": {},
   "source": [
    "# Q3. what is an iterator in python?Name the method used to initialize the iterator object and the method used for iteration use these methods to print the first five elements of the given list?"
   ]
  },
  {
   "cell_type": "code",
   "execution_count": 21,
   "id": "3ad4cd4d",
   "metadata": {},
   "outputs": [],
   "source": [
    "l = [2, 4, 6, 8, 10, 12, 14, 16, 18, 20]"
   ]
  },
  {
   "cell_type": "markdown",
   "id": "954b5640",
   "metadata": {},
   "source": [
    "Ans. Iterator in python is an object that is used to iterate over itrable ojects like list,tuple,dictionary,set,the iterator objects is initialize by using iter() method and next() method for iteration."
   ]
  },
  {
   "cell_type": "code",
   "execution_count": 25,
   "id": "6caba1be",
   "metadata": {},
   "outputs": [],
   "source": [
    "itr = iter(l)"
   ]
  },
  {
   "cell_type": "code",
   "execution_count": 26,
   "id": "3ae6bc11",
   "metadata": {},
   "outputs": [
    {
     "data": {
      "text/plain": [
       "list_iterator"
      ]
     },
     "execution_count": 26,
     "metadata": {},
     "output_type": "execute_result"
    }
   ],
   "source": [
    "type(itr)"
   ]
  },
  {
   "cell_type": "code",
   "execution_count": 27,
   "id": "c2af4bc3",
   "metadata": {},
   "outputs": [
    {
     "name": "stdout",
     "output_type": "stream",
     "text": [
      "2\n",
      "4\n",
      "6\n",
      "8\n",
      "10\n"
     ]
    }
   ],
   "source": [
    "for i in range(1,6):\n",
    "    print(next(itr))"
   ]
  },
  {
   "cell_type": "markdown",
   "id": "c38f3c85",
   "metadata": {},
   "source": [
    "# Q4. What is a generator function in python? Why yield keyword is used? Give an example of generator function?"
   ]
  },
  {
   "cell_type": "markdown",
   "id": "6e22fe51",
   "metadata": {},
   "source": [
    "Ans. A generator it is defined like a normal function, but whenever we need to generate the value, it does so with the yield keyword rather than return if the body of def contains yield, the function automatically becomes a generator. The yield statement of a function returns a generator object."
   ]
  },
  {
   "cell_type": "code",
   "execution_count": 195,
   "id": "3829a006",
   "metadata": {},
   "outputs": [],
   "source": [
    "def square(n):\n",
    "    for i in range(n):\n",
    "        yield i**2"
   ]
  },
  {
   "cell_type": "code",
   "execution_count": 196,
   "id": "b62d88e6",
   "metadata": {},
   "outputs": [
    {
     "data": {
      "text/plain": [
       "<generator object square at 0x000002514356AA50>"
      ]
     },
     "execution_count": 196,
     "metadata": {},
     "output_type": "execute_result"
    }
   ],
   "source": [
    "square(3)"
   ]
  },
  {
   "cell_type": "code",
   "execution_count": 219,
   "id": "2ae7f413",
   "metadata": {},
   "outputs": [],
   "source": [
    "a = square(3)"
   ]
  },
  {
   "cell_type": "code",
   "execution_count": 210,
   "id": "7d262c12",
   "metadata": {},
   "outputs": [
    {
     "name": "stdout",
     "output_type": "stream",
     "text": [
      "0\n",
      "1\n",
      "4\n"
     ]
    }
   ],
   "source": [
    "for i in square(3):\n",
    "    print(i)"
   ]
  },
  {
   "cell_type": "code",
   "execution_count": 211,
   "id": "3f597094",
   "metadata": {},
   "outputs": [
    {
     "data": {
      "text/plain": [
       "generator"
      ]
     },
     "execution_count": 211,
     "metadata": {},
     "output_type": "execute_result"
    }
   ],
   "source": [
    "type(a)"
   ]
  },
  {
   "cell_type": "code",
   "execution_count": 220,
   "id": "029bac49",
   "metadata": {},
   "outputs": [
    {
     "name": "stdout",
     "output_type": "stream",
     "text": [
      "0\n",
      "1\n",
      "4\n"
     ]
    }
   ],
   "source": [
    "for i in a :\n",
    "    print(i)"
   ]
  },
  {
   "cell_type": "markdown",
   "id": "ef6281cf",
   "metadata": {},
   "source": [
    "# Q5. Create a generator function for prime numbers less than 1000.Using the next function to print the first 20 prime numbers?"
   ]
  },
  {
   "cell_type": "code",
   "execution_count": 30,
   "id": "36ceeb04",
   "metadata": {},
   "outputs": [
    {
     "name": "stdout",
     "output_type": "stream",
     "text": [
      "2\n",
      "3\n",
      "5\n",
      "7\n",
      "11\n",
      "13\n",
      "17\n",
      "19\n",
      "23\n",
      "29\n",
      "31\n",
      "37\n",
      "41\n",
      "43\n",
      "47\n",
      "53\n",
      "59\n",
      "61\n",
      "67\n",
      "71\n"
     ]
    }
   ],
   "source": [
    "def primes():\n",
    "    \"\"\"Create a generator function for prime numbers less than 1000.\"\"\"\n",
    "    yield 2\n",
    "    primes_list = [2]\n",
    "    for i in range(3, 1000):\n",
    "        is_prime = True\n",
    "        for prime in primes_list:\n",
    "            if i % prime == 0:\n",
    "                is_prime = False\n",
    "                break\n",
    "        if is_prime:\n",
    "            primes_list.append(i)\n",
    "            yield i\n",
    "\n",
    "prime_gen = primes()\n",
    "# the next() method to print the first 20 prime numbers.\n",
    "for i in range(20):\n",
    "    print(next(prime_gen))"
   ]
  },
  {
   "cell_type": "markdown",
   "id": "2c592c4c",
   "metadata": {},
   "source": [
    "# Q6. Write a python program to print 10 fibonacci numbers using while loop?"
   ]
  },
  {
   "cell_type": "code",
   "execution_count": 5,
   "id": "381deaf8",
   "metadata": {},
   "outputs": [
    {
     "name": "stdout",
     "output_type": "stream",
     "text": [
      "0\n",
      "1\n",
      "1\n",
      "2\n",
      "3\n",
      "5\n",
      "8\n",
      "13\n",
      "21\n",
      "34\n"
     ]
    }
   ],
   "source": [
    "a = 0 \n",
    "b = 1\n",
    "i = 1\n",
    "print(a)\n",
    "print(b)\n",
    "while i <= 8:\n",
    "    c = a+b\n",
    "    a = b\n",
    "    b = c\n",
    "    print(c)\n",
    "    i += 1\n",
    "    \n",
    "    \n",
    "    "
   ]
  },
  {
   "cell_type": "markdown",
   "id": "38529ee1",
   "metadata": {},
   "source": [
    "# Q7. Write a list comprehension to itrate through a given string --> 'pwskills'?"
   ]
  },
  {
   "cell_type": "code",
   "execution_count": 6,
   "id": "c99e5132",
   "metadata": {},
   "outputs": [
    {
     "data": {
      "text/plain": [
       "['p', 'w', 's', 'k', 'i', 'l', 'l', 's']"
      ]
     },
     "execution_count": 6,
     "metadata": {},
     "output_type": "execute_result"
    }
   ],
   "source": [
    "string = 'pwskills'\n",
    "l = [i for i in string]\n",
    "l"
   ]
  },
  {
   "cell_type": "markdown",
   "id": "b587399b",
   "metadata": {},
   "source": [
    "# Q8. Write a python program to check whether a number is palindrome or not using while loop?"
   ]
  },
  {
   "cell_type": "code",
   "execution_count": 18,
   "id": "3a4aa415",
   "metadata": {},
   "outputs": [
    {
     "name": "stdout",
     "output_type": "stream",
     "text": [
      "Enter a Number: 151\n",
      "151 This is a palindrome Number\n"
     ]
    }
   ],
   "source": [
    "n = int(input(\"Enter a Number: \"))\n",
    "rev = 0\n",
    "tem=n\n",
    "while tem > 0:\n",
    "    rev = ( rev * 10 ) + ( tem % 10 )\n",
    "    tem //= 10\n",
    "if  rev == n :\n",
    "    print(rev,\"This is a palindrome Number\")\n",
    "else:\n",
    "    print(rev,\"This is not a palindrome Number\")\n",
    "    \n"
   ]
  },
  {
   "cell_type": "markdown",
   "id": "52ff55c9",
   "metadata": {},
   "source": [
    "# Q9. Write a code to print odd numbers from 1 to 100 by using list comprehension?"
   ]
  },
  {
   "cell_type": "code",
   "execution_count": 21,
   "id": "3b394fdb",
   "metadata": {},
   "outputs": [],
   "source": [
    "l_odd = []\n",
    "l = [ l_odd.append(i) for i in range(1,101) if i %2 != 0 ]\n"
   ]
  },
  {
   "cell_type": "code",
   "execution_count": 27,
   "id": "9130ac31",
   "metadata": {},
   "outputs": [
    {
     "data": {
      "text/plain": [
       "[1,\n",
       " 3,\n",
       " 5,\n",
       " 7,\n",
       " 9,\n",
       " 11,\n",
       " 13,\n",
       " 15,\n",
       " 17,\n",
       " 19,\n",
       " 21,\n",
       " 23,\n",
       " 25,\n",
       " 27,\n",
       " 29,\n",
       " 31,\n",
       " 33,\n",
       " 35,\n",
       " 37,\n",
       " 39,\n",
       " 41,\n",
       " 43,\n",
       " 45,\n",
       " 47,\n",
       " 49,\n",
       " 51,\n",
       " 53,\n",
       " 55,\n",
       " 57,\n",
       " 59,\n",
       " 61,\n",
       " 63,\n",
       " 65,\n",
       " 67,\n",
       " 69,\n",
       " 71,\n",
       " 73,\n",
       " 75,\n",
       " 77,\n",
       " 79,\n",
       " 81,\n",
       " 83,\n",
       " 85,\n",
       " 87,\n",
       " 89,\n",
       " 91,\n",
       " 93,\n",
       " 95,\n",
       " 97,\n",
       " 99]"
      ]
     },
     "execution_count": 27,
     "metadata": {},
     "output_type": "execute_result"
    }
   ],
   "source": [
    "l_odd"
   ]
  },
  {
   "cell_type": "code",
   "execution_count": 28,
   "id": "e1ff9b64",
   "metadata": {},
   "outputs": [
    {
     "data": {
      "text/plain": [
       "list"
      ]
     },
     "execution_count": 28,
     "metadata": {},
     "output_type": "execute_result"
    }
   ],
   "source": [
    "type(l_odd)"
   ]
  }
 ],
 "metadata": {
  "kernelspec": {
   "display_name": "Python 3 (ipykernel)",
   "language": "python",
   "name": "python3"
  },
  "language_info": {
   "codemirror_mode": {
    "name": "ipython",
    "version": 3
   },
   "file_extension": ".py",
   "mimetype": "text/x-python",
   "name": "python",
   "nbconvert_exporter": "python",
   "pygments_lexer": "ipython3",
   "version": "3.9.13"
  }
 },
 "nbformat": 4,
 "nbformat_minor": 5
}

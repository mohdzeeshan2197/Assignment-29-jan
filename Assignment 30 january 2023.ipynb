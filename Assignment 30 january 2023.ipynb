{
 "cells": [
  {
   "cell_type": "markdown",
   "id": "eece0246",
   "metadata": {},
   "source": [
    "##  Q1. Write a program to accept percentage from the user and display the grade according to the following creteria?"
   ]
  },
  {
   "cell_type": "code",
   "execution_count": 81,
   "id": "c6f84ee9",
   "metadata": {},
   "outputs": [
    {
     "name": "stdout",
     "output_type": "stream",
     "text": [
      "Enter Percentage to get Grades: 100\n",
      "Grade A\n"
     ]
    }
   ],
   "source": [
    "p = int(input(\"Enter Percentage to get Grades: \"))\n",
    "if p < -1:\n",
    "    print(\"Please Enter Valid Percentage\")\n",
    "elif p > 90:\n",
    "    print(\"Grade A\")\n",
    "elif p > 80 and p <= 90:\n",
    "    print(\"Grade B\")\n",
    "elif p >= 60 and p <= 80:\n",
    "    print(\"Grade C\")\n",
    "else:\n",
    "    print(\"Grade D\")"
   ]
  },
  {
   "cell_type": "markdown",
   "id": "aad45ac7",
   "metadata": {},
   "source": [
    "# Q2. write a program to take cost price of bike and display the road tax to be paid according to the following creteria?"
   ]
  },
  {
   "cell_type": "code",
   "execution_count": 73,
   "id": "92472a0b",
   "metadata": {},
   "outputs": [
    {
     "name": "stdout",
     "output_type": "stream",
     "text": [
      "Enter the Cost Price of the bike : 10000\n",
      "The Total Road tax  500.0\n"
     ]
    }
   ],
   "source": [
    "cp = int(input(\"Enter the Cost Price of the bike : \"))\n",
    "if cp <-1:\n",
    "    print(\"Enter a Valid Cost Price\")\n",
    "elif cp > 100000 :\n",
    "    tax1 = (15/100)*cp\n",
    "    tp1 = tax1 + cp\n",
    "    print(\"The Total Road tax \",tax1)\n",
    "elif cp > 50000 and cp <= 100000:\n",
    "    tax2 = (10/100)*cp\n",
    "    print(\"The Total Road tax \",tax2)\n",
    "else:\n",
    "    tax3 = (5/100)*cp\n",
    "    print(\"The Total Road tax \",tax3)\n",
    "        "
   ]
  },
  {
   "cell_type": "markdown",
   "id": "45e23e6e",
   "metadata": {},
   "source": [
    "# Q3. Accept any city from the user and display the monument of that country"
   ]
  },
  {
   "cell_type": "code",
   "execution_count": 85,
   "id": "1c14e4b7",
   "metadata": {},
   "outputs": [
    {
     "name": "stdout",
     "output_type": "stream",
     "text": [
      "Enter a City to known about the Monument : Delhi\n",
      "Red Fort\n"
     ]
    }
   ],
   "source": [
    "city= input(\"Enter a City to known about the Monument : \")\n",
    "if city == \"Delhi\":\n",
    "    print(\"Red Fort\")\n",
    "elif city == \"Agra\":\n",
    "    print(\"Taj Mahal\")\n",
    "elif city == \"Jaipur\":\n",
    "    print(\"Jai Mahal\")\n",
    "else:\n",
    "    print(\"Enter a valid Word\")\n"
   ]
  },
  {
   "cell_type": "markdown",
   "id": "8895eb2d",
   "metadata": {},
   "source": [
    "# Q4. Check how many times a number is divisible by 3 before it is less than or equal to 10"
   ]
  },
  {
   "cell_type": "code",
   "execution_count": 16,
   "id": "ea2432e6",
   "metadata": {},
   "outputs": [
    {
     "name": "stdout",
     "output_type": "stream",
     "text": [
      "Enter a Number : 1000\n",
      "1000 is dvisible by 3:  5  times\n"
     ]
    }
   ],
   "source": [
    "n = int(input(\"Enter a Number : \"))\n",
    "temp = n\n",
    "c = 0\n",
    "if n <= 10 :\n",
    "    print(\"Enter a number Greater Than 10\")\n",
    "while n > 10:\n",
    "    n /= 3\n",
    "    c += 1\n",
    "print(temp,\"is dvisible by 3: \",c,\" times\")\n",
    "\n"
   ]
  },
  {
   "cell_type": "markdown",
   "id": "6b0f28af",
   "metadata": {},
   "source": [
    "## Q5.  Why and when to use a while loop in python give a detailed descrption with example?"
   ]
  },
  {
   "cell_type": "markdown",
   "id": "e0155d3a",
   "metadata": {},
   "source": [
    " Ans. While loop is made up of a condition or expression followed by block of code to run the condition or expression will be evaluated in a boolean context.If condition is True blocks runs  and repeat until the condition evaluates as False. "
   ]
  },
  {
   "cell_type": "code",
   "execution_count": 27,
   "id": "c0344d52",
   "metadata": {},
   "outputs": [
    {
     "name": "stdout",
     "output_type": "stream",
     "text": [
      "0\n",
      "1\n",
      "2\n",
      "4\n",
      "3\n",
      "2\n",
      "1\n"
     ]
    }
   ],
   "source": [
    "#example:\n",
    "\n",
    "count =0\n",
    "while count<3:\n",
    "    print(count)\n",
    "    count=count+1\n",
    "\n",
    "# while loop with list\n",
    "a=[1,2,3,4]\n",
    "while a:\n",
    "    print(a.pop())"
   ]
  },
  {
   "cell_type": "markdown",
   "id": "631c13e9",
   "metadata": {},
   "source": [
    "# Q6. Use nested While loop to print three different pattern"
   ]
  },
  {
   "cell_type": "code",
   "execution_count": null,
   "id": "4cab083b",
   "metadata": {},
   "outputs": [],
   "source": [
    "1."
   ]
  },
  {
   "cell_type": "code",
   "execution_count": 4,
   "id": "c3e2c268",
   "metadata": {},
   "outputs": [
    {
     "name": "stdout",
     "output_type": "stream",
     "text": [
      "Enter numbers of rows:4\n",
      "1 \n",
      "2 3 \n",
      "4 5 6 \n",
      "7 8 9 10 \n"
     ]
    }
   ],
   "source": [
    "\n",
    "n = int(input(\"Enter numbers of rows:\"))\n",
    "i=1\n",
    "\n",
    "\n",
    "# pattern 1 - triangle\n",
    "\n",
    "\n",
    "# while i<=n:\n",
    "#     j=1\n",
    "#     while j<=i:\n",
    "#         print(\"*\",end=\" \")\n",
    "#         j=j+1\n",
    "#     print()\n",
    "#     i=i+1\n",
    "    \n",
    "\n",
    "    \n",
    "# pattern-2 reverse traingle\n",
    "\n",
    "\n",
    "# while i<=n:\n",
    "#     j=n\n",
    "#     while j>=i:\n",
    "#         print(\"*\",end=\" \")\n",
    "#         j=j-1\n",
    "#     print()\n",
    "#     i=i+1\n",
    "\n",
    "    \n",
    "\n",
    "# pattern-3 - Number traingle\n",
    "\n",
    "\n",
    "\n",
    "k=1\n",
    "while i<=n:\n",
    "    j=1\n",
    "    while j<=i:\n",
    "        print(k,end=\" \")\n",
    "        j=j+1\n",
    "        k=k+1\n",
    "    print()\n",
    "    i=i+1"
   ]
  },
  {
   "cell_type": "markdown",
   "id": "4b83b28a",
   "metadata": {},
   "source": [
    "# Q7. Reverse a while loop to print 10 -1 ?"
   ]
  },
  {
   "cell_type": "code",
   "execution_count": 9,
   "id": "2b1c7278",
   "metadata": {},
   "outputs": [
    {
     "name": "stdout",
     "output_type": "stream",
     "text": [
      "10\n",
      "9\n",
      "8\n",
      "7\n",
      "6\n",
      "5\n",
      "4\n",
      "3\n",
      "2\n",
      "1\n"
     ]
    }
   ],
   "source": [
    "i = 10\n",
    "while i >= 1:\n",
    "    print(i)\n",
    "    i-=1"
   ]
  },
  {
   "cell_type": "code",
   "execution_count": 11,
   "id": "6dc0958f",
   "metadata": {},
   "outputs": [
    {
     "name": "stdout",
     "output_type": "stream",
     "text": [
      "1\n",
      "2\n",
      "3\n",
      "4\n",
      "5\n",
      "6\n",
      "7\n",
      "8\n",
      "9\n",
      "10\n"
     ]
    }
   ],
   "source": [
    "i= 1\n",
    "while i <= 10:\n",
    "    print(i)\n",
    "    i +=1"
   ]
  }
 ],
 "metadata": {
  "kernelspec": {
   "display_name": "Python 3 (ipykernel)",
   "language": "python",
   "name": "python3"
  },
  "language_info": {
   "codemirror_mode": {
    "name": "ipython",
    "version": 3
   },
   "file_extension": ".py",
   "mimetype": "text/x-python",
   "name": "python",
   "nbconvert_exporter": "python",
   "pygments_lexer": "ipython3",
   "version": "3.9.12"
  }
 },
 "nbformat": 4,
 "nbformat_minor": 5
}

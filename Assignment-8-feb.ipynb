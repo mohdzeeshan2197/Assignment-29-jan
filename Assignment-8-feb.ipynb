{
 "cells": [
  {
   "cell_type": "markdown",
   "id": "53c3a6a8",
   "metadata": {},
   "source": [
    "# Q1. What is abstraction in oops, Explain with an Example?"
   ]
  },
  {
   "cell_type": "markdown",
   "id": "07f21ad6",
   "metadata": {},
   "source": [
    "Ans. Abstraction is the process of hiding the impletation details from the user and only highlight the set of services. Abstraction can be achieved by two ways first is abstraction and second is interface, interface is nothing  =it is define as only abstract methods in a class not having a single normal method."
   ]
  },
  {
   "cell_type": "code",
   "execution_count": 11,
   "id": "f8736789",
   "metadata": {},
   "outputs": [],
   "source": [
    "from abc import ABC,abstractmethod\n",
    "\n",
    "class car(ABC):\n",
    "    \n",
    "    def show(self):\n",
    "        print(\"Every car has four wheels\")\n",
    "    @abstractmethod\n",
    "    def speed(speed):\n",
    "         pass\n",
    "class maruti(car):\n",
    "    \n",
    "    def speed(self):\n",
    "        print(\"the speed is 100 km/H\")\n",
    "class suzuki(car):\n",
    "    \n",
    "    def speed(self):\n",
    "        print(\"the speed is 200km/H\")\n",
    "    "
   ]
  },
  {
   "cell_type": "code",
   "execution_count": 12,
   "id": "3d96bdda",
   "metadata": {},
   "outputs": [],
   "source": [
    "obj1 = maruti()"
   ]
  },
  {
   "cell_type": "code",
   "execution_count": 13,
   "id": "2d0e155d",
   "metadata": {},
   "outputs": [
    {
     "name": "stdout",
     "output_type": "stream",
     "text": [
      "Every car has four wheels\n"
     ]
    }
   ],
   "source": [
    "obj1.show()"
   ]
  },
  {
   "cell_type": "code",
   "execution_count": 14,
   "id": "0e27ded1",
   "metadata": {},
   "outputs": [
    {
     "name": "stdout",
     "output_type": "stream",
     "text": [
      "the speed is 100 km/H\n"
     ]
    }
   ],
   "source": [
    "obj1.speed()"
   ]
  },
  {
   "cell_type": "code",
   "execution_count": 15,
   "id": "ba39acea",
   "metadata": {},
   "outputs": [],
   "source": [
    "obj2 = suzuki()"
   ]
  },
  {
   "cell_type": "code",
   "execution_count": 16,
   "id": "0e37e8ca",
   "metadata": {},
   "outputs": [
    {
     "name": "stdout",
     "output_type": "stream",
     "text": [
      "Every car has four wheels\n"
     ]
    }
   ],
   "source": [
    "obj2.show()"
   ]
  },
  {
   "cell_type": "code",
   "execution_count": 17,
   "id": "7452610c",
   "metadata": {},
   "outputs": [
    {
     "name": "stdout",
     "output_type": "stream",
     "text": [
      "the speed is 200km/H\n"
     ]
    }
   ],
   "source": [
    "obj2.speed()"
   ]
  },
  {
   "cell_type": "markdown",
   "id": "a002f8c5",
   "metadata": {},
   "source": [
    "# Q2. Differenciate between abstraction and encapsulation? Explain with an example?"
   ]
  },
  {
   "cell_type": "markdown",
   "id": "d02330f0",
   "metadata": {},
   "source": [
    "Ans Abstraction is process of wrapping data in a single unit it bind data and code mainuplate abstraction is like a blueprint, Encapsulation can be achieved by declaring all variables private an writing public methods to get and set value whereas abstraction is showing only essential information to the user, the trival and non-essential information are not displayed by the user"
   ]
  },
  {
   "cell_type": "code",
   "execution_count": 50,
   "id": "cd9a8a4a",
   "metadata": {},
   "outputs": [],
   "source": [
    "# Ex. Encapsulation\n",
    "\n",
    "class bank:\n",
    "    \n",
    "    def __init__(self,balance):\n",
    "        self.__balance = balance\n",
    "    \n",
    "    def deposit(self,balance):\n",
    "        self.__balance = self.__balance + balance\n",
    "    \n",
    "    def withdraw(self,balance):\n",
    "        if self.__balance > 0:\n",
    "            self.__balance = self.__balance - balance\n",
    "            return True\n",
    "        else:\n",
    "            return False \n",
    "        \n",
    "    def get_balance(self):\n",
    "        return self.__balance\n",
    "        "
   ]
  },
  {
   "cell_type": "code",
   "execution_count": 51,
   "id": "60e684e1",
   "metadata": {},
   "outputs": [],
   "source": [
    "obj_bank = bank(2000)"
   ]
  },
  {
   "cell_type": "code",
   "execution_count": 52,
   "id": "79075ea3",
   "metadata": {},
   "outputs": [],
   "source": [
    "obj_bank.deposit(1500)"
   ]
  },
  {
   "cell_type": "code",
   "execution_count": 53,
   "id": "b8cbc80e",
   "metadata": {},
   "outputs": [
    {
     "data": {
      "text/plain": [
       "3500"
      ]
     },
     "execution_count": 53,
     "metadata": {},
     "output_type": "execute_result"
    }
   ],
   "source": [
    "obj_bank.get_balance()"
   ]
  },
  {
   "cell_type": "code",
   "execution_count": 54,
   "id": "eea5d914",
   "metadata": {},
   "outputs": [
    {
     "data": {
      "text/plain": [
       "True"
      ]
     },
     "execution_count": 54,
     "metadata": {},
     "output_type": "execute_result"
    }
   ],
   "source": [
    "obj_bank.withdraw(1200)"
   ]
  },
  {
   "cell_type": "code",
   "execution_count": 55,
   "id": "8e0c0b78",
   "metadata": {},
   "outputs": [
    {
     "data": {
      "text/plain": [
       "2300"
      ]
     },
     "execution_count": 55,
     "metadata": {},
     "output_type": "execute_result"
    }
   ],
   "source": [
    "obj_bank.get_balance()"
   ]
  },
  {
   "cell_type": "code",
   "execution_count": 56,
   "id": "9f6a1ae9",
   "metadata": {},
   "outputs": [],
   "source": [
    "# Ex abstraction\n",
    "\n",
    "from abc import ABC,abstractmethod\n",
    "\n",
    "class car:\n",
    "    \n",
    "    def wheels(self):\n",
    "        print(\"Every car has Four wheels\")\n",
    "    @abstractmethod\n",
    "    def speed(self):\n",
    "        pass\n",
    "    \n",
    "class toyata:\n",
    "    \n",
    "    def speed(self):\n",
    "        print(\"the speed of Toyata car is 500 km/h\")\n",
    "        \n",
    "class jaguar:\n",
    "    \n",
    "    def speed(self):\n",
    "        print(\"the speed of jaguar car is 1000km/h\")\n",
    "    "
   ]
  },
  {
   "cell_type": "code",
   "execution_count": 57,
   "id": "89f42d4a",
   "metadata": {},
   "outputs": [],
   "source": [
    "obj_toyata = toyata()\n",
    "obj_jaguar = jaguar()"
   ]
  },
  {
   "cell_type": "code",
   "execution_count": 58,
   "id": "7786711f",
   "metadata": {},
   "outputs": [
    {
     "name": "stdout",
     "output_type": "stream",
     "text": [
      "the speed of Toyata car is 500 km/h\n"
     ]
    }
   ],
   "source": [
    "obj_toyata.speed()"
   ]
  },
  {
   "cell_type": "code",
   "execution_count": 59,
   "id": "33d61ca0",
   "metadata": {},
   "outputs": [
    {
     "name": "stdout",
     "output_type": "stream",
     "text": [
      "the speed of jaguar car is 1000km/h\n"
     ]
    }
   ],
   "source": [
    "obj_jaguar.speed()"
   ]
  },
  {
   "cell_type": "markdown",
   "id": "1f56698a",
   "metadata": {},
   "source": [
    "# Q3. what is abc module in python? why it is used ?"
   ]
  },
  {
   "cell_type": "markdown",
   "id": "c9951838",
   "metadata": {},
   "source": [
    "'abc' works by marking methods of the base class as abstract. This is done by @absttractmethod decorator. A concrete class which is a sub class of such abstract base class then implements the abstract base by overriding its abstract methods."
   ]
  },
  {
   "cell_type": "markdown",
   "id": "51864b37",
   "metadata": {},
   "source": [
    "# Q4. How can we achieve data abstraction? Explain your answer"
   ]
  },
  {
   "cell_type": "markdown",
   "id": "5edbcab2",
   "metadata": {},
   "source": [
    "Ans. We can achieve data abstraction by using two ways 1. Abstraction using classes 2. Abstraction in header files\n",
    "\n",
    "1.abstraction using classes :  A class is used to group all the data members and member functions into a single unit by using the access specifiers. A class has the responsibility to determine which data member is to be visible outside and which is not.\n",
    "\n",
    "2.Abstraction in header files : n another type of abstraction is header file. For example, pow() function available is used to calculate the power of a number without actually knowing which algorithm function uses to calculate the power. Thus, we can say that header files hides all the implementation details from the user. "
   ]
  },
  {
   "cell_type": "markdown",
   "id": "c88a091d",
   "metadata": {},
   "source": [
    "# Q5. Can we create an instance of an abstract class? Explain your answer"
   ]
  },
  {
   "cell_type": "markdown",
   "id": "214f7c0d",
   "metadata": {},
   "source": [
    "Ans. Only the classes that are derived from the abstract base class will have the implementation of the abstract method. So, python will not allow us to create an instance for abstract classes."
   ]
  }
 ],
 "metadata": {
  "kernelspec": {
   "display_name": "Python 3 (ipykernel)",
   "language": "python",
   "name": "python3"
  },
  "language_info": {
   "codemirror_mode": {
    "name": "ipython",
    "version": 3
   },
   "file_extension": ".py",
   "mimetype": "text/x-python",
   "name": "python",
   "nbconvert_exporter": "python",
   "pygments_lexer": "ipython3",
   "version": "3.9.13"
  }
 },
 "nbformat": 4,
 "nbformat_minor": 5
}

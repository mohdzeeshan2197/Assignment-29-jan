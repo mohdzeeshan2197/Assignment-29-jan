{
 "cells": [
  {
   "cell_type": "markdown",
   "id": "92962582",
   "metadata": {},
   "source": [
    "# Q1. What is Web Scraping? Why is it Used? Give three areas where Web Scraping is used to get data."
   ]
  },
  {
   "cell_type": "markdown",
   "id": "e329d48c",
   "metadata": {},
   "source": [
    "Web scrapping helps to fetch data from web pages, data like videos, titile,email,phone numbers,images etc , web scrapping used for analyze data and use that data use to perform bussiness activites faster and gives close suggestion to people Areas where web scrapping is used 1. Retail industry 2. In market and sales 3. In data science"
   ]
  },
  {
   "cell_type": "markdown",
   "id": "6e9e9ac0",
   "metadata": {},
   "source": [
    "# Q2. What are the different methods used for Web Scraping?"
   ]
  },
  {
   "cell_type": "markdown",
   "id": "41fb41bb",
   "metadata": {},
   "source": [
    "Using web scrapping API, Mannual Web scrapping, Scrapping by programming, By using scrapping Software"
   ]
  },
  {
   "cell_type": "markdown",
   "id": "408d2e83",
   "metadata": {},
   "source": [
    "# Q3. What is Beautiful Soup? Why is it used?"
   ]
  },
  {
   "cell_type": "markdown",
   "id": "ee803a01",
   "metadata": {},
   "source": [
    "Beautiful Soup is a library in python which is used to web scrapping purpose to pull the data out of HTML , XML XML files It creates a parse tree from web page source that can be used to extract data in a herarichcal and readable manner "
   ]
  },
  {
   "cell_type": "markdown",
   "id": "e60b1c95",
   "metadata": {},
   "source": [
    "# Q4. Why is flask used in this Web Scraping project?"
   ]
  },
  {
   "cell_type": "markdown",
   "id": "c9dd884d",
   "metadata": {},
   "source": [
    "Flask is a lihghtweight framework to build website we use this parse our collected data and display as it new HTM, The requests module allows us to send http request to website"
   ]
  },
  {
   "cell_type": "markdown",
   "id": "e5bb92d2",
   "metadata": {},
   "source": [
    "# Q5. Write the names of AWS services used in this project. Also, explain the use of each service."
   ]
  },
  {
   "cell_type": "markdown",
   "id": "fbe7f237",
   "metadata": {},
   "source": [
    "We used two services of AWS that is Elastic Beanstalk and AWS codepipeline\n",
    "Elastic beanstalk is help us to hosting a wwebsite and AWS codepipeline AWS CodePipeline enables developers to model, visualize, and automate the steps that lead up to the release of your Software."
   ]
  }
 ],
 "metadata": {
  "kernelspec": {
   "display_name": "Python 3 (ipykernel)",
   "language": "python",
   "name": "python3"
  },
  "language_info": {
   "codemirror_mode": {
    "name": "ipython",
    "version": 3
   },
   "file_extension": ".py",
   "mimetype": "text/x-python",
   "name": "python",
   "nbconvert_exporter": "python",
   "pygments_lexer": "ipython3",
   "version": "3.9.13"
  }
 },
 "nbformat": 4,
 "nbformat_minor": 5
}

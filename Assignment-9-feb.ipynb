{
 "cells": [
  {
   "cell_type": "markdown",
   "id": "b7869596",
   "metadata": {},
   "source": [
    "# Q1. Create a vehicle class with an init method having instance variables as name_of_vehicle, max_speed and average_of_vehicle."
   ]
  },
  {
   "cell_type": "code",
   "execution_count": 9,
   "id": "4395bf64",
   "metadata": {},
   "outputs": [],
   "source": [
    "class vehicle:\n",
    "    \n",
    "    def __init__(self):\n",
    "        self.name_of_vehicle\n",
    "        self.max_speed\n",
    "        self.average_of_vehicle\n",
    "    "
   ]
  },
  {
   "cell_type": "markdown",
   "id": "15716ccf",
   "metadata": {},
   "source": [
    "# Q2. Create a child class car from the vehicle class created in Que 1, which will inherit the vehicle class.Create a method named seating_capacity which takes capacity as an argument and returns the name ofthe vehicle and its seating capacity."
   ]
  },
  {
   "cell_type": "code",
   "execution_count": 22,
   "id": "b97a7a91",
   "metadata": {},
   "outputs": [],
   "source": [
    "class car(vehicle):\n",
    "    \n",
    "    def seating_capacity(self,capacity):\n",
    "        '''This function take capacity and return vehicle name & capacity'''\n",
    "        return self.name_of_vehicle\n",
    "        return self.capacity"
   ]
  },
  {
   "cell_type": "markdown",
   "id": "efa2e243",
   "metadata": {},
   "source": [
    "# Q3. What is multiple inheritance? Write a python code to demonstrate multiple inheritance."
   ]
  },
  {
   "cell_type": "markdown",
   "id": "47322d16",
   "metadata": {},
   "source": [
    "Ans. When a class is derived from more than one base class is called multiple inheritance in simple word. the derived class inherits all behaviour of the base class "
   ]
  },
  {
   "cell_type": "code",
   "execution_count": 27,
   "id": "ca563315",
   "metadata": {},
   "outputs": [],
   "source": [
    "# Ex. Multiple Inheritance:\n",
    "\n",
    "class class1:\n",
    "    \n",
    "    def mark(self):\n",
    "        print(\"In class 1\")\n",
    "\n",
    "class class2(class1):\n",
    "     \n",
    "    def mark(self):\n",
    "        print(\"In class 2\")\n",
    "\n",
    "class class3(class1):\n",
    "    \n",
    "    def mark(self):\n",
    "        print(\"In class 3\")\n",
    "\n",
    "class class4(class2, class3):\n",
    "    \n",
    "    pass"
   ]
  },
  {
   "cell_type": "code",
   "execution_count": 30,
   "id": "651dc651",
   "metadata": {},
   "outputs": [
    {
     "name": "stdout",
     "output_type": "stream",
     "text": [
      "In class 2\n"
     ]
    }
   ],
   "source": [
    "obj4 = class4()\n",
    "\n",
    "obj4.mark()"
   ]
  },
  {
   "cell_type": "markdown",
   "id": "2f0d1ff3",
   "metadata": {},
   "source": [
    "# Q4. What are getter and setter in python? Create a class and create a getter and a setter method in this class."
   ]
  },
  {
   "cell_type": "markdown",
   "id": "ef3514ae",
   "metadata": {},
   "source": [
    "Ans. We used getter and setter to avoid direct acceess of class field that is private variable cannot access or modified directly by user"
   ]
  },
  {
   "cell_type": "code",
   "execution_count": 104,
   "id": "2aa4fad8",
   "metadata": {},
   "outputs": [],
   "source": [
    "class bank:\n",
    "    \n",
    "    def __init__(self,balance):\n",
    "        self.__balance = balance\n",
    "        \n",
    "    def withdraw(self, amount):\n",
    "        if self.__balance >= amount:\n",
    "            self.__balance = self.__balance - amount\n",
    "            return \"WITHDRAW SUCCESSFUL\"\n",
    "        else:\n",
    "            return \"UNSUCCESSFUL\"\n",
    "        \n",
    "    def deposit(self, amount):\n",
    "        self.__balance = self.__balance + amount\n",
    "        return \"DEPOSIT SUCCESSFUL\"\n",
    "    \n",
    "    def get_balance(self):\n",
    "        return self.__balance"
   ]
  },
  {
   "cell_type": "code",
   "execution_count": 105,
   "id": "7bdab72a",
   "metadata": {},
   "outputs": [],
   "source": [
    "obj = bank(2000)"
   ]
  },
  {
   "cell_type": "code",
   "execution_count": 106,
   "id": "aadc8614",
   "metadata": {},
   "outputs": [
    {
     "data": {
      "text/plain": [
       "'WITHDRAW SUCCESSFUL'"
      ]
     },
     "execution_count": 106,
     "metadata": {},
     "output_type": "execute_result"
    }
   ],
   "source": [
    "obj.withdraw(20)"
   ]
  },
  {
   "cell_type": "code",
   "execution_count": 107,
   "id": "8c00258b",
   "metadata": {},
   "outputs": [
    {
     "data": {
      "text/plain": [
       "1980"
      ]
     },
     "execution_count": 107,
     "metadata": {},
     "output_type": "execute_result"
    }
   ],
   "source": [
    "obj.get_balance()"
   ]
  },
  {
   "cell_type": "code",
   "execution_count": 108,
   "id": "80c0045f",
   "metadata": {},
   "outputs": [
    {
     "data": {
      "text/plain": [
       "'DEPOSIT SUCCESSFUL'"
      ]
     },
     "execution_count": 108,
     "metadata": {},
     "output_type": "execute_result"
    }
   ],
   "source": [
    "obj.deposit(200)"
   ]
  },
  {
   "cell_type": "code",
   "execution_count": 109,
   "id": "47076a2e",
   "metadata": {},
   "outputs": [
    {
     "data": {
      "text/plain": [
       "'UNSUCCESSFUL'"
      ]
     },
     "execution_count": 109,
     "metadata": {},
     "output_type": "execute_result"
    }
   ],
   "source": [
    "obj.withdraw(50000)"
   ]
  },
  {
   "cell_type": "markdown",
   "id": "fef172f0",
   "metadata": {},
   "source": [
    "# Q5.What is method overriding in python? Write a python code to demonstrate method overriding."
   ]
  },
  {
   "cell_type": "markdown",
   "id": "4f45f5dc",
   "metadata": {},
   "source": [
    "Ans. Whenever class contains more than one method with samne name and different types of parameter is known as method overloading"
   ]
  },
  {
   "cell_type": "code",
   "execution_count": 10,
   "id": "e15eddde",
   "metadata": {},
   "outputs": [],
   "source": [
    "class A :\n",
    "    \n",
    "    def show(self):\n",
    "        print(\"welcome\")\n",
    "        \n",
    "    def show(self, fname=''):\n",
    "        print(\"welocome \",fname)\n",
    "        \n",
    "    def show(self,fname='', lname=''):\n",
    "        print(\"welcome\", fname, lname)\n",
    "        "
   ]
  },
  {
   "cell_type": "code",
   "execution_count": 11,
   "id": "37c925c1",
   "metadata": {},
   "outputs": [],
   "source": [
    "a = A()"
   ]
  },
  {
   "cell_type": "code",
   "execution_count": 12,
   "id": "42c803c7",
   "metadata": {},
   "outputs": [
    {
     "name": "stdout",
     "output_type": "stream",
     "text": [
      "welcome  \n"
     ]
    }
   ],
   "source": [
    "a.show()"
   ]
  },
  {
   "cell_type": "code",
   "execution_count": 15,
   "id": "a5aa9d70",
   "metadata": {},
   "outputs": [
    {
     "name": "stdout",
     "output_type": "stream",
     "text": [
      "welcome sir sudhanshu \n"
     ]
    }
   ],
   "source": [
    "a.show('sir sudhanshu')"
   ]
  },
  {
   "cell_type": "code",
   "execution_count": 16,
   "id": "cf734147",
   "metadata": {},
   "outputs": [
    {
     "name": "stdout",
     "output_type": "stream",
     "text": [
      "welcome sir sudhanshu kumar\n"
     ]
    }
   ],
   "source": [
    "a.show('sir sudhanshu','kumar')"
   ]
  }
 ],
 "metadata": {
  "kernelspec": {
   "display_name": "Python 3 (ipykernel)",
   "language": "python",
   "name": "python3"
  },
  "language_info": {
   "codemirror_mode": {
    "name": "ipython",
    "version": 3
   },
   "file_extension": ".py",
   "mimetype": "text/x-python",
   "name": "python",
   "nbconvert_exporter": "python",
   "pygments_lexer": "ipython3",
   "version": "3.9.13"
  }
 },
 "nbformat": 4,
 "nbformat_minor": 5
}

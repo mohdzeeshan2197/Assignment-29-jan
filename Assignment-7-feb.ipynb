{
 "cells": [
  {
   "cell_type": "markdown",
   "id": "6be1120d",
   "metadata": {},
   "source": [
    "# Q1. You are writing a code for a company.the reqirement of the company is that yor are creating a python function that will check whether the password is correct or not entered by the user. The function shouldtake the password as input and return the string “Valid Password” if the entered password follows thebelow-given password guidelines else it should return “Invalid Password”."
   ]
  },
  {
   "cell_type": "markdown",
   "id": "ac788608",
   "metadata": {},
   "source": [
    "Note: 1. The Password should contain at least two uppercase letters and at least two lowercase letters.\n",
    "2. The Password should contain at least a number and three special characters.\n",
    "3. The length of the password should be 10 characters long."
   ]
  },
  {
   "cell_type": "code",
   "execution_count": 4,
   "id": "63ed0c61",
   "metadata": {},
   "outputs": [],
   "source": [
    "def check_password(password):\n",
    "    \n",
    "    '''This function Checks the password'''\n",
    "    upper_count = 0\n",
    "    lower_count = 0\n",
    "    digit_count = 0\n",
    "    special_count = 0\n",
    "    special_characters = \"!@#$^&*\"\n",
    "    for char in password:\n",
    "        if char.isupper():\n",
    "            upper_count += 1\n",
    "        elif char.islower():\n",
    "            lower_count += 1\n",
    "        elif char.isdigit():\n",
    "            digit_count += 1\n",
    "        elif char in special_characters:\n",
    "            special_count += 1\n",
    "    if upper_count >= 2 and lower_count >= 2 and digit_count >= 1 and special_count >= 3 and len(password) == 10:\n",
    "        return \"Valid Password\"\n",
    "    else:\n",
    "        return \"Invalid Password\""
   ]
  },
  {
   "cell_type": "code",
   "execution_count": 6,
   "id": "fb374b9f",
   "metadata": {},
   "outputs": [
    {
     "data": {
      "text/plain": [
       "'Valid Password'"
      ]
     },
     "execution_count": 6,
     "metadata": {},
     "output_type": "execute_result"
    }
   ],
   "source": [
    "check_password(AAbb5!)"
   ]
  },
  {
   "cell_type": "markdown",
   "id": "830b6993",
   "metadata": {},
   "source": [
    "# Q2. solve the below given using atleast one of the following?"
   ]
  },
  {
   "cell_type": "markdown",
   "id": "ffd070ed",
   "metadata": {},
   "source": [
    "1.Lambda\n",
    "2.filter\n",
    "3.map\n",
    "4.list comprehension"
   ]
  },
  {
   "cell_type": "code",
   "execution_count": null,
   "id": "bdf06874",
   "metadata": {},
   "outputs": [],
   "source": [
    "# 1. Check if the string starts with a particular letter"
   ]
  },
  {
   "cell_type": "code",
   "execution_count": 7,
   "id": "42fdadf4",
   "metadata": {},
   "outputs": [],
   "source": [
    "starts_with_letter = lambda string, letter: string[0] == letter(string, letter)\n",
    "\n",
    "strings = ['apple','banana','cherry','date']\n",
    "letters = ['a', 'b','c']\n",
    "            \n",
    "result = list(filter(lambda x: x is not false, map(lambda x: starts_with_letter(x, letters[0]), strings)))"
   ]
  },
  {
   "cell_type": "code",
   "execution_count": 7,
   "id": "bd09d11e",
   "metadata": {},
   "outputs": [],
   "source": [
    "# 2. Check if the string is numeric"
   ]
  },
  {
   "cell_type": "code",
   "execution_count": 2,
   "id": "9b1bd4a8",
   "metadata": {},
   "outputs": [],
   "source": [
    "is_numeric = lambda string: string.isdigit()\n",
    "strings = ['123', '456','789' ,'abc']    \n",
    "result =list(filter(lambda x: is_numeric(x), strings))\n",
    "            "
   ]
  },
  {
   "cell_type": "code",
   "execution_count": 1,
   "id": "a743bdcd",
   "metadata": {},
   "outputs": [],
   "source": [
    "# 3. Sort a list of tuples having fruit names and their quantity.\n",
    "fruits = [(\"mango\", 99), (\"orange\", 80), (\"Grapes\", 1000)]\n",
    "sorted_fruits =sorted(fruits, key=lambda x: x[1])\n",
    "            "
   ]
  },
  {
   "cell_type": "code",
   "execution_count": 9,
   "id": "905472d9",
   "metadata": {},
   "outputs": [],
   "source": [
    "# 4. Find the cube root of numbers from 1 to 10"
   ]
  },
  {
   "cell_type": "code",
   "execution_count": 11,
   "id": "e5c705f5",
   "metadata": {},
   "outputs": [
    {
     "data": {
      "text/plain": [
       "[1.0,\n",
       " 1.2599210498948732,\n",
       " 1.4422495703074083,\n",
       " 1.5874010519681994,\n",
       " 1.7099759466766968,\n",
       " 1.8171205928321397,\n",
       " 1.912931182772389,\n",
       " 2.0,\n",
       " 2.080083823051904,\n",
       " 2.154434690031884]"
      ]
     },
     "execution_count": 11,
     "metadata": {},
     "output_type": "execute_result"
    }
   ],
   "source": [
    "c =[1,2,3,4,5,6,7,8,9,10]\n",
    "list(map(lambda x : x **(1/3),c))"
   ]
  },
  {
   "cell_type": "code",
   "execution_count": 8,
   "id": "6ddb9c7f",
   "metadata": {},
   "outputs": [
    {
     "data": {
      "text/plain": [
       "[1, 4, 9, 16, 25, 36, 49, 64, 81, 100]"
      ]
     },
     "execution_count": 8,
     "metadata": {},
     "output_type": "execute_result"
    }
   ],
   "source": [
    "# 5. Find the squares of numbers from 1 to 10\n",
    "\n",
    "l = [1,2,3,4,5,6,7,8,9,10]\n",
    "list(map(lambda x : x**2, l))"
   ]
  },
  {
   "cell_type": "code",
   "execution_count": 10,
   "id": "57a56f42",
   "metadata": {},
   "outputs": [],
   "source": [
    "# 6. Check if a given number is even"
   ]
  },
  {
   "cell_type": "code",
   "execution_count": 31,
   "id": "fc5aaf34",
   "metadata": {},
   "outputs": [
    {
     "data": {
      "text/plain": [
       "[2, 4, 6, 8, 10]"
      ]
     },
     "execution_count": 31,
     "metadata": {},
     "output_type": "execute_result"
    }
   ],
   "source": [
    "l1 =[1,2,3,4,5,6,7,8,9,10]\n",
    "list(filter(lambda x : x %2 ==0,l1))"
   ]
  },
  {
   "cell_type": "code",
   "execution_count": null,
   "id": "6d99cdbc",
   "metadata": {},
   "outputs": [],
   "source": [
    "# 7. Filter odd numbers from the given list."
   ]
  },
  {
   "cell_type": "code",
   "execution_count": 33,
   "id": "9d5f92c4",
   "metadata": {},
   "outputs": [
    {
     "data": {
      "text/plain": [
       "[1, 3, 5, 7, 9]"
      ]
     },
     "execution_count": 33,
     "metadata": {},
     "output_type": "execute_result"
    }
   ],
   "source": [
    "l2 = [1,2,3,4,5,6,7,8,9,10]\n",
    "\n",
    "list(filter(lambda x : x%2 != 0,l2))"
   ]
  },
  {
   "cell_type": "code",
   "execution_count": 60,
   "id": "abaaace4",
   "metadata": {},
   "outputs": [],
   "source": [
    "# 8. Sort a list of integers into positive and negative integers lists.\n",
    "l3 = [1,2,3,4,5,6,-1,-2,-3,-4,-5,0]\n",
    "pst = list(filter(lambda x : x > 0,l3))"
   ]
  },
  {
   "cell_type": "code",
   "execution_count": 61,
   "id": "edc91db2",
   "metadata": {},
   "outputs": [
    {
     "data": {
      "text/plain": [
       "[1, 2, 3, 4, 5, 6]"
      ]
     },
     "execution_count": 61,
     "metadata": {},
     "output_type": "execute_result"
    }
   ],
   "source": [
    "pst"
   ]
  },
  {
   "cell_type": "code",
   "execution_count": 62,
   "id": "e0afc5b3",
   "metadata": {},
   "outputs": [],
   "source": [
    "ngt = list(filter(lambda x : x < 0,l3))"
   ]
  },
  {
   "cell_type": "code",
   "execution_count": 63,
   "id": "6cdcef80",
   "metadata": {},
   "outputs": [
    {
     "data": {
      "text/plain": [
       "[-1, -2, -3, -4, -5]"
      ]
     },
     "execution_count": 63,
     "metadata": {},
     "output_type": "execute_result"
    }
   ],
   "source": [
    "ngt"
   ]
  },
  {
   "cell_type": "code",
   "execution_count": null,
   "id": "55ccf03b",
   "metadata": {},
   "outputs": [],
   "source": []
  }
 ],
 "metadata": {
  "kernelspec": {
   "display_name": "Python 3 (ipykernel)",
   "language": "python",
   "name": "python3"
  },
  "language_info": {
   "codemirror_mode": {
    "name": "ipython",
    "version": 3
   },
   "file_extension": ".py",
   "mimetype": "text/x-python",
   "name": "python",
   "nbconvert_exporter": "python",
   "pygments_lexer": "ipython3",
   "version": "3.9.13"
  }
 },
 "nbformat": 4,
 "nbformat_minor": 5
}

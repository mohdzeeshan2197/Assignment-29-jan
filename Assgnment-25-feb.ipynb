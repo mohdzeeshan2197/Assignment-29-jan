{
 "cells": [
  {
   "cell_type": "code",
   "execution_count": 1,
   "id": "aca59817",
   "metadata": {},
   "outputs": [],
   "source": [
    "import pandas as pd"
   ]
  },
  {
   "cell_type": "code",
   "execution_count": 2,
   "id": "392162f3",
   "metadata": {},
   "outputs": [],
   "source": [
    "# Consider following code to answer further questions:\n",
    "\n",
    "course_name = ['Data Science', 'Machine Learning', 'Big Data', 'Data Engineer']\n",
    "duration = [2,3,6,4]\n",
    "\n",
    "df = pd.DataFrame(data = {'course_name' : course_name, 'duration' : duration})"
   ]
  },
  {
   "cell_type": "code",
   "execution_count": 3,
   "id": "b6dc56b2",
   "metadata": {},
   "outputs": [
    {
     "data": {
      "text/html": [
       "<div>\n",
       "<style scoped>\n",
       "    .dataframe tbody tr th:only-of-type {\n",
       "        vertical-align: middle;\n",
       "    }\n",
       "\n",
       "    .dataframe tbody tr th {\n",
       "        vertical-align: top;\n",
       "    }\n",
       "\n",
       "    .dataframe thead th {\n",
       "        text-align: right;\n",
       "    }\n",
       "</style>\n",
       "<table border=\"1\" class=\"dataframe\">\n",
       "  <thead>\n",
       "    <tr style=\"text-align: right;\">\n",
       "      <th></th>\n",
       "      <th>course_name</th>\n",
       "      <th>duration</th>\n",
       "    </tr>\n",
       "  </thead>\n",
       "  <tbody>\n",
       "    <tr>\n",
       "      <th>0</th>\n",
       "      <td>Data Science</td>\n",
       "      <td>2</td>\n",
       "    </tr>\n",
       "    <tr>\n",
       "      <th>1</th>\n",
       "      <td>Machine Learning</td>\n",
       "      <td>3</td>\n",
       "    </tr>\n",
       "    <tr>\n",
       "      <th>2</th>\n",
       "      <td>Big Data</td>\n",
       "      <td>6</td>\n",
       "    </tr>\n",
       "    <tr>\n",
       "      <th>3</th>\n",
       "      <td>Data Engineer</td>\n",
       "      <td>4</td>\n",
       "    </tr>\n",
       "  </tbody>\n",
       "</table>\n",
       "</div>"
      ],
      "text/plain": [
       "        course_name  duration\n",
       "0      Data Science         2\n",
       "1  Machine Learning         3\n",
       "2          Big Data         6\n",
       "3     Data Engineer         4"
      ]
     },
     "execution_count": 3,
     "metadata": {},
     "output_type": "execute_result"
    }
   ],
   "source": [
    "df       # this is Given "
   ]
  },
  {
   "cell_type": "markdown",
   "id": "109e3939",
   "metadata": {},
   "source": [
    "# Q1. Write a code to print the data present in the second row of the dataframe, df."
   ]
  },
  {
   "cell_type": "code",
   "execution_count": 4,
   "id": "a6e9c322",
   "metadata": {},
   "outputs": [
    {
     "data": {
      "text/plain": [
       "course_name    Machine Learning\n",
       "duration                      3\n",
       "Name: 1, dtype: object"
      ]
     },
     "execution_count": 4,
     "metadata": {},
     "output_type": "execute_result"
    }
   ],
   "source": [
    "df.loc[1]"
   ]
  },
  {
   "cell_type": "markdown",
   "id": "dbc306d5",
   "metadata": {},
   "source": [
    "# Q2. What is the difference between the functions loc and iloc in pandas.DataFrame?"
   ]
  },
  {
   "cell_type": "markdown",
   "id": "1b71b2fd",
   "metadata": {},
   "source": [
    "iloc is integer index-based. So here, we have to specify rows and columns by their integer index.\n",
    "df.iloc[0:2, 0:2] selects the first two rows and first two columns of the DataFrame based\n",
    "\n",
    "\n",
    "loc is label-based, which means that we have to specify the name of the rows and columns that we need to filter out.\n",
    "For example, df.loc[0:2, 'column_name'] selects the rows with indices 0, 1, and 2 and the column with label"
   ]
  },
  {
   "cell_type": "markdown",
   "id": "700ce0f5",
   "metadata": {},
   "source": [
    "# Q3. Reindex the given dataframe using a variable, reindex = [3,0,1,2] and store it in the variable, new_df then find the output for both new_df.loc[2] and new_df.iloc[2]."
   ]
  },
  {
   "cell_type": "code",
   "execution_count": 5,
   "id": "8bf42232",
   "metadata": {},
   "outputs": [
    {
     "data": {
      "text/html": [
       "<div>\n",
       "<style scoped>\n",
       "    .dataframe tbody tr th:only-of-type {\n",
       "        vertical-align: middle;\n",
       "    }\n",
       "\n",
       "    .dataframe tbody tr th {\n",
       "        vertical-align: top;\n",
       "    }\n",
       "\n",
       "    .dataframe thead th {\n",
       "        text-align: right;\n",
       "    }\n",
       "</style>\n",
       "<table border=\"1\" class=\"dataframe\">\n",
       "  <thead>\n",
       "    <tr style=\"text-align: right;\">\n",
       "      <th></th>\n",
       "      <th>course_name</th>\n",
       "      <th>duration</th>\n",
       "    </tr>\n",
       "  </thead>\n",
       "  <tbody>\n",
       "    <tr>\n",
       "      <th>0</th>\n",
       "      <td>Data Science</td>\n",
       "      <td>2</td>\n",
       "    </tr>\n",
       "    <tr>\n",
       "      <th>1</th>\n",
       "      <td>Machine Learning</td>\n",
       "      <td>3</td>\n",
       "    </tr>\n",
       "    <tr>\n",
       "      <th>2</th>\n",
       "      <td>Big Data</td>\n",
       "      <td>6</td>\n",
       "    </tr>\n",
       "    <tr>\n",
       "      <th>3</th>\n",
       "      <td>Data Engineer</td>\n",
       "      <td>4</td>\n",
       "    </tr>\n",
       "  </tbody>\n",
       "</table>\n",
       "</div>"
      ],
      "text/plain": [
       "        course_name  duration\n",
       "0      Data Science         2\n",
       "1  Machine Learning         3\n",
       "2          Big Data         6\n",
       "3     Data Engineer         4"
      ]
     },
     "execution_count": 5,
     "metadata": {},
     "output_type": "execute_result"
    }
   ],
   "source": [
    "df"
   ]
  },
  {
   "cell_type": "code",
   "execution_count": 6,
   "id": "85c5f4c2",
   "metadata": {},
   "outputs": [],
   "source": [
    "new_df = df.reindex([3,0,1,2])"
   ]
  },
  {
   "cell_type": "code",
   "execution_count": 7,
   "id": "d15789d7",
   "metadata": {},
   "outputs": [
    {
     "data": {
      "text/html": [
       "<div>\n",
       "<style scoped>\n",
       "    .dataframe tbody tr th:only-of-type {\n",
       "        vertical-align: middle;\n",
       "    }\n",
       "\n",
       "    .dataframe tbody tr th {\n",
       "        vertical-align: top;\n",
       "    }\n",
       "\n",
       "    .dataframe thead th {\n",
       "        text-align: right;\n",
       "    }\n",
       "</style>\n",
       "<table border=\"1\" class=\"dataframe\">\n",
       "  <thead>\n",
       "    <tr style=\"text-align: right;\">\n",
       "      <th></th>\n",
       "      <th>course_name</th>\n",
       "      <th>duration</th>\n",
       "    </tr>\n",
       "  </thead>\n",
       "  <tbody>\n",
       "    <tr>\n",
       "      <th>3</th>\n",
       "      <td>Data Engineer</td>\n",
       "      <td>4</td>\n",
       "    </tr>\n",
       "    <tr>\n",
       "      <th>0</th>\n",
       "      <td>Data Science</td>\n",
       "      <td>2</td>\n",
       "    </tr>\n",
       "    <tr>\n",
       "      <th>1</th>\n",
       "      <td>Machine Learning</td>\n",
       "      <td>3</td>\n",
       "    </tr>\n",
       "    <tr>\n",
       "      <th>2</th>\n",
       "      <td>Big Data</td>\n",
       "      <td>6</td>\n",
       "    </tr>\n",
       "  </tbody>\n",
       "</table>\n",
       "</div>"
      ],
      "text/plain": [
       "        course_name  duration\n",
       "3     Data Engineer         4\n",
       "0      Data Science         2\n",
       "1  Machine Learning         3\n",
       "2          Big Data         6"
      ]
     },
     "execution_count": 7,
     "metadata": {},
     "output_type": "execute_result"
    }
   ],
   "source": [
    "new_df"
   ]
  },
  {
   "cell_type": "code",
   "execution_count": 8,
   "id": "4671947e",
   "metadata": {},
   "outputs": [
    {
     "data": {
      "text/plain": [
       "course_name    Big Data\n",
       "duration              6\n",
       "Name: 2, dtype: object"
      ]
     },
     "execution_count": 8,
     "metadata": {},
     "output_type": "execute_result"
    }
   ],
   "source": [
    "new_df.loc[2]"
   ]
  },
  {
   "cell_type": "code",
   "execution_count": 9,
   "id": "768a6fb2",
   "metadata": {},
   "outputs": [
    {
     "data": {
      "text/plain": [
       "course_name    Machine Learning\n",
       "duration                      3\n",
       "Name: 1, dtype: object"
      ]
     },
     "execution_count": 9,
     "metadata": {},
     "output_type": "execute_result"
    }
   ],
   "source": [
    "new_df.iloc[2]"
   ]
  },
  {
   "cell_type": "markdown",
   "id": "71a699ae",
   "metadata": {},
   "source": [
    "<!--  Did you observe any difference in both the outputs? If so then explain it. -->\n",
    "\n",
    "iloc is integer index-based whereas loc is label-based\n"
   ]
  },
  {
   "cell_type": "code",
   "execution_count": 10,
   "id": "1bd5cd32",
   "metadata": {},
   "outputs": [],
   "source": [
    "# Consider the below code to answer further questions:\n",
    "\n",
    "\n",
    "\n",
    "\n",
    "import pandas as pd\n",
    "import numpy as np\n",
    "columns = ['column_1', 'column_2', 'column_3', 'column_4', 'column_5', 'column_6']\n",
    "indices = [1,2,3,4,5,6]\n",
    "#Creating a dataframe:\n",
    "df1 = pd.DataFrame(np.random.rand(6,6), columns = columns, index = indices)"
   ]
  },
  {
   "cell_type": "code",
   "execution_count": 11,
   "id": "7333c5f8",
   "metadata": {},
   "outputs": [
    {
     "data": {
      "text/html": [
       "<div>\n",
       "<style scoped>\n",
       "    .dataframe tbody tr th:only-of-type {\n",
       "        vertical-align: middle;\n",
       "    }\n",
       "\n",
       "    .dataframe tbody tr th {\n",
       "        vertical-align: top;\n",
       "    }\n",
       "\n",
       "    .dataframe thead th {\n",
       "        text-align: right;\n",
       "    }\n",
       "</style>\n",
       "<table border=\"1\" class=\"dataframe\">\n",
       "  <thead>\n",
       "    <tr style=\"text-align: right;\">\n",
       "      <th></th>\n",
       "      <th>column_1</th>\n",
       "      <th>column_2</th>\n",
       "      <th>column_3</th>\n",
       "      <th>column_4</th>\n",
       "      <th>column_5</th>\n",
       "      <th>column_6</th>\n",
       "    </tr>\n",
       "  </thead>\n",
       "  <tbody>\n",
       "    <tr>\n",
       "      <th>1</th>\n",
       "      <td>0.723134</td>\n",
       "      <td>0.979985</td>\n",
       "      <td>0.230223</td>\n",
       "      <td>0.533771</td>\n",
       "      <td>0.477228</td>\n",
       "      <td>0.025292</td>\n",
       "    </tr>\n",
       "    <tr>\n",
       "      <th>2</th>\n",
       "      <td>0.158090</td>\n",
       "      <td>0.024705</td>\n",
       "      <td>0.491219</td>\n",
       "      <td>0.279570</td>\n",
       "      <td>0.432140</td>\n",
       "      <td>0.182379</td>\n",
       "    </tr>\n",
       "    <tr>\n",
       "      <th>3</th>\n",
       "      <td>0.571252</td>\n",
       "      <td>0.099538</td>\n",
       "      <td>0.595895</td>\n",
       "      <td>0.283913</td>\n",
       "      <td>0.848637</td>\n",
       "      <td>0.839759</td>\n",
       "    </tr>\n",
       "    <tr>\n",
       "      <th>4</th>\n",
       "      <td>0.993581</td>\n",
       "      <td>0.646029</td>\n",
       "      <td>0.325521</td>\n",
       "      <td>0.733329</td>\n",
       "      <td>0.568657</td>\n",
       "      <td>0.750857</td>\n",
       "    </tr>\n",
       "    <tr>\n",
       "      <th>5</th>\n",
       "      <td>0.479247</td>\n",
       "      <td>0.482905</td>\n",
       "      <td>0.500643</td>\n",
       "      <td>0.108674</td>\n",
       "      <td>0.587636</td>\n",
       "      <td>0.182182</td>\n",
       "    </tr>\n",
       "    <tr>\n",
       "      <th>6</th>\n",
       "      <td>0.911626</td>\n",
       "      <td>0.677951</td>\n",
       "      <td>0.177033</td>\n",
       "      <td>0.112016</td>\n",
       "      <td>0.279836</td>\n",
       "      <td>0.615866</td>\n",
       "    </tr>\n",
       "  </tbody>\n",
       "</table>\n",
       "</div>"
      ],
      "text/plain": [
       "   column_1  column_2  column_3  column_4  column_5  column_6\n",
       "1  0.723134  0.979985  0.230223  0.533771  0.477228  0.025292\n",
       "2  0.158090  0.024705  0.491219  0.279570  0.432140  0.182379\n",
       "3  0.571252  0.099538  0.595895  0.283913  0.848637  0.839759\n",
       "4  0.993581  0.646029  0.325521  0.733329  0.568657  0.750857\n",
       "5  0.479247  0.482905  0.500643  0.108674  0.587636  0.182182\n",
       "6  0.911626  0.677951  0.177033  0.112016  0.279836  0.615866"
      ]
     },
     "execution_count": 11,
     "metadata": {},
     "output_type": "execute_result"
    }
   ],
   "source": [
    "df1"
   ]
  },
  {
   "cell_type": "markdown",
   "id": "0a1090d2",
   "metadata": {},
   "source": [
    "# Q4. Write a code to find the following statistical measurements for the above dataframe df1:\n",
    "(i) mean of each and every column present in the dataframe.\n",
    "           (ii) standard deviation of column, ‘column_2’"
   ]
  },
  {
   "cell_type": "code",
   "execution_count": 12,
   "id": "87c4ea75",
   "metadata": {},
   "outputs": [
    {
     "name": "stdout",
     "output_type": "stream",
     "text": [
      "The Mean of Data Frame\n",
      " column_1    0.639488\n",
      "column_2    0.485185\n",
      "column_3    0.386756\n",
      "column_4    0.341879\n",
      "column_5    0.532356\n",
      "column_6    0.432723\n",
      "dtype: float64\n"
     ]
    }
   ],
   "source": [
    "print(\"The Mean of Data Frame\\n\",df1.mean())"
   ]
  },
  {
   "cell_type": "code",
   "execution_count": 13,
   "id": "6b68e944",
   "metadata": {},
   "outputs": [
    {
     "name": "stdout",
     "output_type": "stream",
     "text": [
      "Standar deviation of Column_2 is:\n",
      " 0.36568486395671546\n"
     ]
    }
   ],
   "source": [
    "print(\"Standar deviation of Column_2 is:\\n\",df1['column_2'].std())"
   ]
  },
  {
   "cell_type": "markdown",
   "id": "5bb74f94",
   "metadata": {},
   "source": [
    "# Q5. Replace the data present in the second row of column, ‘column_2’ by a string variable then find the\n"
   ]
  },
  {
   "cell_type": "markdown",
   "id": "e70f9185",
   "metadata": {},
   "source": [
    "mean of column, column_2.\n",
    "If you are getting errors in executing it then explain why.\n",
    "[Hint: To replace the data use df1.loc[] and equate this to string data of your choice.]"
   ]
  },
  {
   "cell_type": "code",
   "execution_count": 14,
   "id": "401abee1",
   "metadata": {},
   "outputs": [
    {
     "data": {
      "text/html": [
       "<div>\n",
       "<style scoped>\n",
       "    .dataframe tbody tr th:only-of-type {\n",
       "        vertical-align: middle;\n",
       "    }\n",
       "\n",
       "    .dataframe tbody tr th {\n",
       "        vertical-align: top;\n",
       "    }\n",
       "\n",
       "    .dataframe thead th {\n",
       "        text-align: right;\n",
       "    }\n",
       "</style>\n",
       "<table border=\"1\" class=\"dataframe\">\n",
       "  <thead>\n",
       "    <tr style=\"text-align: right;\">\n",
       "      <th></th>\n",
       "      <th>column_1</th>\n",
       "      <th>column_2</th>\n",
       "      <th>column_3</th>\n",
       "      <th>column_4</th>\n",
       "      <th>column_5</th>\n",
       "      <th>column_6</th>\n",
       "    </tr>\n",
       "  </thead>\n",
       "  <tbody>\n",
       "    <tr>\n",
       "      <th>1</th>\n",
       "      <td>0.723134</td>\n",
       "      <td>0.979985</td>\n",
       "      <td>0.230223</td>\n",
       "      <td>0.533771</td>\n",
       "      <td>0.477228</td>\n",
       "      <td>0.025292</td>\n",
       "    </tr>\n",
       "    <tr>\n",
       "      <th>2</th>\n",
       "      <td>0.158090</td>\n",
       "      <td>0.024705</td>\n",
       "      <td>0.491219</td>\n",
       "      <td>0.279570</td>\n",
       "      <td>0.432140</td>\n",
       "      <td>0.182379</td>\n",
       "    </tr>\n",
       "    <tr>\n",
       "      <th>3</th>\n",
       "      <td>0.571252</td>\n",
       "      <td>0.099538</td>\n",
       "      <td>0.595895</td>\n",
       "      <td>0.283913</td>\n",
       "      <td>0.848637</td>\n",
       "      <td>0.839759</td>\n",
       "    </tr>\n",
       "    <tr>\n",
       "      <th>4</th>\n",
       "      <td>0.993581</td>\n",
       "      <td>0.646029</td>\n",
       "      <td>0.325521</td>\n",
       "      <td>0.733329</td>\n",
       "      <td>0.568657</td>\n",
       "      <td>0.750857</td>\n",
       "    </tr>\n",
       "    <tr>\n",
       "      <th>5</th>\n",
       "      <td>0.479247</td>\n",
       "      <td>0.482905</td>\n",
       "      <td>0.500643</td>\n",
       "      <td>0.108674</td>\n",
       "      <td>0.587636</td>\n",
       "      <td>0.182182</td>\n",
       "    </tr>\n",
       "    <tr>\n",
       "      <th>6</th>\n",
       "      <td>0.911626</td>\n",
       "      <td>0.677951</td>\n",
       "      <td>0.177033</td>\n",
       "      <td>0.112016</td>\n",
       "      <td>0.279836</td>\n",
       "      <td>0.615866</td>\n",
       "    </tr>\n",
       "  </tbody>\n",
       "</table>\n",
       "</div>"
      ],
      "text/plain": [
       "   column_1  column_2  column_3  column_4  column_5  column_6\n",
       "1  0.723134  0.979985  0.230223  0.533771  0.477228  0.025292\n",
       "2  0.158090  0.024705  0.491219  0.279570  0.432140  0.182379\n",
       "3  0.571252  0.099538  0.595895  0.283913  0.848637  0.839759\n",
       "4  0.993581  0.646029  0.325521  0.733329  0.568657  0.750857\n",
       "5  0.479247  0.482905  0.500643  0.108674  0.587636  0.182182\n",
       "6  0.911626  0.677951  0.177033  0.112016  0.279836  0.615866"
      ]
     },
     "execution_count": 14,
     "metadata": {},
     "output_type": "execute_result"
    }
   ],
   "source": [
    "df1"
   ]
  },
  {
   "cell_type": "code",
   "execution_count": 15,
   "id": "0a037a9e",
   "metadata": {},
   "outputs": [],
   "source": [
    "df1.loc[2] = 'krish','sudhanshu','Malaya','Aamir','Mayanak','Anmol'"
   ]
  },
  {
   "cell_type": "code",
   "execution_count": 16,
   "id": "2e32a217",
   "metadata": {},
   "outputs": [
    {
     "data": {
      "text/html": [
       "<div>\n",
       "<style scoped>\n",
       "    .dataframe tbody tr th:only-of-type {\n",
       "        vertical-align: middle;\n",
       "    }\n",
       "\n",
       "    .dataframe tbody tr th {\n",
       "        vertical-align: top;\n",
       "    }\n",
       "\n",
       "    .dataframe thead th {\n",
       "        text-align: right;\n",
       "    }\n",
       "</style>\n",
       "<table border=\"1\" class=\"dataframe\">\n",
       "  <thead>\n",
       "    <tr style=\"text-align: right;\">\n",
       "      <th></th>\n",
       "      <th>column_1</th>\n",
       "      <th>column_2</th>\n",
       "      <th>column_3</th>\n",
       "      <th>column_4</th>\n",
       "      <th>column_5</th>\n",
       "      <th>column_6</th>\n",
       "    </tr>\n",
       "  </thead>\n",
       "  <tbody>\n",
       "    <tr>\n",
       "      <th>1</th>\n",
       "      <td>0.723134</td>\n",
       "      <td>0.979985</td>\n",
       "      <td>0.230223</td>\n",
       "      <td>0.533771</td>\n",
       "      <td>0.477228</td>\n",
       "      <td>0.025292</td>\n",
       "    </tr>\n",
       "    <tr>\n",
       "      <th>2</th>\n",
       "      <td>krish</td>\n",
       "      <td>sudhanshu</td>\n",
       "      <td>Malaya</td>\n",
       "      <td>Aamir</td>\n",
       "      <td>Mayanak</td>\n",
       "      <td>Anmol</td>\n",
       "    </tr>\n",
       "    <tr>\n",
       "      <th>3</th>\n",
       "      <td>0.571252</td>\n",
       "      <td>0.099538</td>\n",
       "      <td>0.595895</td>\n",
       "      <td>0.283913</td>\n",
       "      <td>0.848637</td>\n",
       "      <td>0.839759</td>\n",
       "    </tr>\n",
       "    <tr>\n",
       "      <th>4</th>\n",
       "      <td>0.993581</td>\n",
       "      <td>0.646029</td>\n",
       "      <td>0.325521</td>\n",
       "      <td>0.733329</td>\n",
       "      <td>0.568657</td>\n",
       "      <td>0.750857</td>\n",
       "    </tr>\n",
       "    <tr>\n",
       "      <th>5</th>\n",
       "      <td>0.479247</td>\n",
       "      <td>0.482905</td>\n",
       "      <td>0.500643</td>\n",
       "      <td>0.108674</td>\n",
       "      <td>0.587636</td>\n",
       "      <td>0.182182</td>\n",
       "    </tr>\n",
       "    <tr>\n",
       "      <th>6</th>\n",
       "      <td>0.911626</td>\n",
       "      <td>0.677951</td>\n",
       "      <td>0.177033</td>\n",
       "      <td>0.112016</td>\n",
       "      <td>0.279836</td>\n",
       "      <td>0.615866</td>\n",
       "    </tr>\n",
       "  </tbody>\n",
       "</table>\n",
       "</div>"
      ],
      "text/plain": [
       "   column_1   column_2  column_3  column_4  column_5  column_6\n",
       "1  0.723134   0.979985  0.230223  0.533771  0.477228  0.025292\n",
       "2     krish  sudhanshu    Malaya     Aamir   Mayanak     Anmol\n",
       "3  0.571252   0.099538  0.595895  0.283913  0.848637  0.839759\n",
       "4  0.993581   0.646029  0.325521  0.733329  0.568657  0.750857\n",
       "5  0.479247   0.482905  0.500643  0.108674  0.587636  0.182182\n",
       "6  0.911626   0.677951  0.177033  0.112016  0.279836  0.615866"
      ]
     },
     "execution_count": 16,
     "metadata": {},
     "output_type": "execute_result"
    }
   ],
   "source": [
    "df1"
   ]
  },
  {
   "cell_type": "code",
   "execution_count": 17,
   "id": "1745bfe3",
   "metadata": {},
   "outputs": [
    {
     "name": "stdout",
     "output_type": "stream",
     "text": [
      "Could not convert krishsudhanshuMalayaAamirMayanakAnmol to numeric\n"
     ]
    }
   ],
   "source": [
    "try:\n",
    "    \n",
    "    \n",
    "    mean_df = df1.loc[2].mean()\n",
    "    \n",
    "    \n",
    "except (Exception) as e:\n",
    "    print(e)"
   ]
  },
  {
   "cell_type": "markdown",
   "id": "2c1f9241",
   "metadata": {},
   "source": [
    "# Q6. What do you understand about the windows function in pandas and list the types of windows functions?"
   ]
  },
  {
   "cell_type": "markdown",
   "id": "c8b4b4e2",
   "metadata": {},
   "source": [
    "1.Rolling Window: This function creates a window of a fixed size and then slides it over the data to calculate aggregates. Examples of rolling window functions include rolling_mean(), rolling_sum(), and rolling_std().\n",
    "\n",
    "2.Expanding Window: This function starts with a window of a single data point and then expands it to include more data points. Examples of expanding window functions include expanding_sum() and expanding_mean().\n",
    "\n",
    "3.Exponentially Weighted Window: This function gives more weight to recent data points and less weight to older data points. Examples of exponentially weighted window functions include ewma() and ewmstd().\n",
    "\n",
    "4.Cumulative Window: This function calculates the cumulative sum or product of the values in a window. Examples of cumulative window functions include cum"
   ]
  },
  {
   "cell_type": "markdown",
   "id": "a58177c2",
   "metadata": {},
   "source": [
    "# Q7. Write a code to print only the current month and year at the time of answering this question.\n",
    "[Hint: Use pandas.datetime function]"
   ]
  },
  {
   "cell_type": "code",
   "execution_count": 18,
   "id": "6fddf38d",
   "metadata": {},
   "outputs": [
    {
     "name": "stderr",
     "output_type": "stream",
     "text": [
      "C:\\Users\\Let\\AppData\\Local\\Temp\\ipykernel_8428\\1836436967.py:1: FutureWarning: The pandas.datetime class is deprecated and will be removed from pandas in a future version. Import from datetime module instead.\n",
      "  current = pd.datetime.now()\n"
     ]
    }
   ],
   "source": [
    "current = pd.datetime.now()"
   ]
  },
  {
   "cell_type": "code",
   "execution_count": 19,
   "id": "43a9a2cf",
   "metadata": {},
   "outputs": [
    {
     "data": {
      "text/plain": [
       "datetime.date(2023, 3, 11)"
      ]
     },
     "execution_count": 19,
     "metadata": {},
     "output_type": "execute_result"
    }
   ],
   "source": [
    "current.date()"
   ]
  },
  {
   "cell_type": "code",
   "execution_count": 20,
   "id": "92869e60",
   "metadata": {},
   "outputs": [
    {
     "data": {
      "text/plain": [
       "datetime.datetime(2023, 3, 11, 12, 55, 43, 591269, tzinfo=datetime.timezone(datetime.timedelta(seconds=19800), 'India Standard Time'))"
      ]
     },
     "execution_count": 20,
     "metadata": {},
     "output_type": "execute_result"
    }
   ],
   "source": [
    "current.astimezone()"
   ]
  },
  {
   "cell_type": "code",
   "execution_count": 21,
   "id": "d886d2e6",
   "metadata": {},
   "outputs": [
    {
     "data": {
      "text/plain": [
       "11"
      ]
     },
     "execution_count": 21,
     "metadata": {},
     "output_type": "execute_result"
    }
   ],
   "source": [
    "current.day"
   ]
  },
  {
   "cell_type": "code",
   "execution_count": 22,
   "id": "1e7ed1b7",
   "metadata": {},
   "outputs": [
    {
     "data": {
      "text/plain": [
       "3"
      ]
     },
     "execution_count": 22,
     "metadata": {},
     "output_type": "execute_result"
    }
   ],
   "source": [
    "current.month"
   ]
  },
  {
   "cell_type": "code",
   "execution_count": 23,
   "id": "b69ef7af",
   "metadata": {},
   "outputs": [
    {
     "data": {
      "text/plain": [
       "2023"
      ]
     },
     "execution_count": 23,
     "metadata": {},
     "output_type": "execute_result"
    }
   ],
   "source": [
    "current.year"
   ]
  },
  {
   "cell_type": "markdown",
   "id": "9f70350b",
   "metadata": {},
   "source": [
    "# Q8. Write a Python program that takes in two dates as input (in the format YYYY-MM-DD) and calculates the difference between them in days, hours, and minutes using Pandas time delta. The program should prompt the user to enter the dates and display the result."
   ]
  },
  {
   "cell_type": "code",
   "execution_count": 24,
   "id": "943e096a",
   "metadata": {},
   "outputs": [
    {
     "name": "stdout",
     "output_type": "stream",
     "text": [
      "Enter Date 1 in Form(YYYY-MM-DD)2022-01-01\n",
      "Enter Date 2 in Form(YYYY-MM-DD)2023-01-01\n",
      "The difference is 365 Days and 0 hours and 0 minutes\n"
     ]
    }
   ],
   "source": [
    "date1 = input(\"Enter Date 1 in Form(YYYY-MM-DD)\")\n",
    "date2 = input(\"Enter Date 2 in Form(YYYY-MM-DD)\")\n",
    "\n",
    "date1 = pd.to_datetime(date1)\n",
    "date2 = pd.to_datetime(date2)\n",
    "\n",
    "\n",
    "time_difference = (date2 - date1)\n",
    "\n",
    "day_time = time_difference.days\n",
    "hour_time = time_difference.seconds//3600\n",
    "minute_time = (time_difference.seconds%3600)//60\n",
    "\n",
    "print(\"The difference is {} Days and {} hours and {} minutes\".format(day_time,hour_time,minute_time))\n",
    "\n"
   ]
  },
  {
   "cell_type": "markdown",
   "id": "15c3fc71",
   "metadata": {},
   "source": [
    "# Q9. Write a Python program that reads a CSV file containing categorical data and converts a specified column to a categorical data type. The program should prompt the user to enter the file path, column name, and category order, and then display the sorted data."
   ]
  },
  {
   "cell_type": "code",
   "execution_count": 25,
   "id": "63299bff",
   "metadata": {},
   "outputs": [],
   "source": [
    "import pandas as pd\n"
   ]
  },
  {
   "cell_type": "code",
   "execution_count": 26,
   "id": "4051a0ef",
   "metadata": {},
   "outputs": [],
   "source": [
    "df = pd.read_csv('nba.csv')"
   ]
  },
  {
   "cell_type": "code",
   "execution_count": 27,
   "id": "8d12e6bb",
   "metadata": {},
   "outputs": [
    {
     "data": {
      "text/html": [
       "<div>\n",
       "<style scoped>\n",
       "    .dataframe tbody tr th:only-of-type {\n",
       "        vertical-align: middle;\n",
       "    }\n",
       "\n",
       "    .dataframe tbody tr th {\n",
       "        vertical-align: top;\n",
       "    }\n",
       "\n",
       "    .dataframe thead th {\n",
       "        text-align: right;\n",
       "    }\n",
       "</style>\n",
       "<table border=\"1\" class=\"dataframe\">\n",
       "  <thead>\n",
       "    <tr style=\"text-align: right;\">\n",
       "      <th></th>\n",
       "      <th>Name</th>\n",
       "      <th>Team</th>\n",
       "      <th>Number</th>\n",
       "      <th>Position</th>\n",
       "      <th>Age</th>\n",
       "      <th>Height</th>\n",
       "      <th>Weight</th>\n",
       "      <th>College</th>\n",
       "      <th>Salary</th>\n",
       "    </tr>\n",
       "  </thead>\n",
       "  <tbody>\n",
       "    <tr>\n",
       "      <th>0</th>\n",
       "      <td>Avery Bradley</td>\n",
       "      <td>Boston Celtics</td>\n",
       "      <td>0.0</td>\n",
       "      <td>PG</td>\n",
       "      <td>25.0</td>\n",
       "      <td>6-2</td>\n",
       "      <td>180.0</td>\n",
       "      <td>Texas</td>\n",
       "      <td>7730337.0</td>\n",
       "    </tr>\n",
       "    <tr>\n",
       "      <th>1</th>\n",
       "      <td>Jae Crowder</td>\n",
       "      <td>Boston Celtics</td>\n",
       "      <td>99.0</td>\n",
       "      <td>SF</td>\n",
       "      <td>25.0</td>\n",
       "      <td>6-6</td>\n",
       "      <td>235.0</td>\n",
       "      <td>Marquette</td>\n",
       "      <td>6796117.0</td>\n",
       "    </tr>\n",
       "    <tr>\n",
       "      <th>2</th>\n",
       "      <td>John Holland</td>\n",
       "      <td>Boston Celtics</td>\n",
       "      <td>30.0</td>\n",
       "      <td>SG</td>\n",
       "      <td>27.0</td>\n",
       "      <td>6-5</td>\n",
       "      <td>205.0</td>\n",
       "      <td>Boston University</td>\n",
       "      <td>NaN</td>\n",
       "    </tr>\n",
       "    <tr>\n",
       "      <th>3</th>\n",
       "      <td>R.J. Hunter</td>\n",
       "      <td>Boston Celtics</td>\n",
       "      <td>28.0</td>\n",
       "      <td>SG</td>\n",
       "      <td>22.0</td>\n",
       "      <td>6-5</td>\n",
       "      <td>185.0</td>\n",
       "      <td>Georgia State</td>\n",
       "      <td>1148640.0</td>\n",
       "    </tr>\n",
       "    <tr>\n",
       "      <th>4</th>\n",
       "      <td>Jonas Jerebko</td>\n",
       "      <td>Boston Celtics</td>\n",
       "      <td>8.0</td>\n",
       "      <td>PF</td>\n",
       "      <td>29.0</td>\n",
       "      <td>6-10</td>\n",
       "      <td>231.0</td>\n",
       "      <td>NaN</td>\n",
       "      <td>5000000.0</td>\n",
       "    </tr>\n",
       "    <tr>\n",
       "      <th>...</th>\n",
       "      <td>...</td>\n",
       "      <td>...</td>\n",
       "      <td>...</td>\n",
       "      <td>...</td>\n",
       "      <td>...</td>\n",
       "      <td>...</td>\n",
       "      <td>...</td>\n",
       "      <td>...</td>\n",
       "      <td>...</td>\n",
       "    </tr>\n",
       "    <tr>\n",
       "      <th>453</th>\n",
       "      <td>Shelvin Mack</td>\n",
       "      <td>Utah Jazz</td>\n",
       "      <td>8.0</td>\n",
       "      <td>PG</td>\n",
       "      <td>26.0</td>\n",
       "      <td>6-3</td>\n",
       "      <td>203.0</td>\n",
       "      <td>Butler</td>\n",
       "      <td>2433333.0</td>\n",
       "    </tr>\n",
       "    <tr>\n",
       "      <th>454</th>\n",
       "      <td>Raul Neto</td>\n",
       "      <td>Utah Jazz</td>\n",
       "      <td>25.0</td>\n",
       "      <td>PG</td>\n",
       "      <td>24.0</td>\n",
       "      <td>6-1</td>\n",
       "      <td>179.0</td>\n",
       "      <td>NaN</td>\n",
       "      <td>900000.0</td>\n",
       "    </tr>\n",
       "    <tr>\n",
       "      <th>455</th>\n",
       "      <td>Tibor Pleiss</td>\n",
       "      <td>Utah Jazz</td>\n",
       "      <td>21.0</td>\n",
       "      <td>C</td>\n",
       "      <td>26.0</td>\n",
       "      <td>7-3</td>\n",
       "      <td>256.0</td>\n",
       "      <td>NaN</td>\n",
       "      <td>2900000.0</td>\n",
       "    </tr>\n",
       "    <tr>\n",
       "      <th>456</th>\n",
       "      <td>Jeff Withey</td>\n",
       "      <td>Utah Jazz</td>\n",
       "      <td>24.0</td>\n",
       "      <td>C</td>\n",
       "      <td>26.0</td>\n",
       "      <td>7-0</td>\n",
       "      <td>231.0</td>\n",
       "      <td>Kansas</td>\n",
       "      <td>947276.0</td>\n",
       "    </tr>\n",
       "    <tr>\n",
       "      <th>457</th>\n",
       "      <td>NaN</td>\n",
       "      <td>NaN</td>\n",
       "      <td>NaN</td>\n",
       "      <td>NaN</td>\n",
       "      <td>NaN</td>\n",
       "      <td>NaN</td>\n",
       "      <td>NaN</td>\n",
       "      <td>NaN</td>\n",
       "      <td>NaN</td>\n",
       "    </tr>\n",
       "  </tbody>\n",
       "</table>\n",
       "<p>458 rows × 9 columns</p>\n",
       "</div>"
      ],
      "text/plain": [
       "              Name            Team  Number Position   Age Height  Weight  \\\n",
       "0    Avery Bradley  Boston Celtics     0.0       PG  25.0    6-2   180.0   \n",
       "1      Jae Crowder  Boston Celtics    99.0       SF  25.0    6-6   235.0   \n",
       "2     John Holland  Boston Celtics    30.0       SG  27.0    6-5   205.0   \n",
       "3      R.J. Hunter  Boston Celtics    28.0       SG  22.0    6-5   185.0   \n",
       "4    Jonas Jerebko  Boston Celtics     8.0       PF  29.0   6-10   231.0   \n",
       "..             ...             ...     ...      ...   ...    ...     ...   \n",
       "453   Shelvin Mack       Utah Jazz     8.0       PG  26.0    6-3   203.0   \n",
       "454      Raul Neto       Utah Jazz    25.0       PG  24.0    6-1   179.0   \n",
       "455   Tibor Pleiss       Utah Jazz    21.0        C  26.0    7-3   256.0   \n",
       "456    Jeff Withey       Utah Jazz    24.0        C  26.0    7-0   231.0   \n",
       "457            NaN             NaN     NaN      NaN   NaN    NaN     NaN   \n",
       "\n",
       "               College     Salary  \n",
       "0                Texas  7730337.0  \n",
       "1            Marquette  6796117.0  \n",
       "2    Boston University        NaN  \n",
       "3        Georgia State  1148640.0  \n",
       "4                  NaN  5000000.0  \n",
       "..                 ...        ...  \n",
       "453             Butler  2433333.0  \n",
       "454                NaN   900000.0  \n",
       "455                NaN  2900000.0  \n",
       "456             Kansas   947276.0  \n",
       "457                NaN        NaN  \n",
       "\n",
       "[458 rows x 9 columns]"
      ]
     },
     "execution_count": 27,
     "metadata": {},
     "output_type": "execute_result"
    }
   ],
   "source": [
    "df"
   ]
  },
  {
   "cell_type": "code",
   "execution_count": 28,
   "id": "ee89de4c",
   "metadata": {},
   "outputs": [
    {
     "name": "stdout",
     "output_type": "stream",
     "text": [
      "Enter a CSV format File Name: nba.csv\n",
      "Enter Column Name : Name\n",
      "This is The Original Data (File Eneter By the User)\n",
      "\n",
      "\n",
      "               Name            Team  Number Position   Age Height  Weight  \\\n",
      "0    Avery Bradley  Boston Celtics     0.0       PG  25.0    6-2   180.0   \n",
      "1      Jae Crowder  Boston Celtics    99.0       SF  25.0    6-6   235.0   \n",
      "2     John Holland  Boston Celtics    30.0       SG  27.0    6-5   205.0   \n",
      "3      R.J. Hunter  Boston Celtics    28.0       SG  22.0    6-5   185.0   \n",
      "4    Jonas Jerebko  Boston Celtics     8.0       PF  29.0   6-10   231.0   \n",
      "..             ...             ...     ...      ...   ...    ...     ...   \n",
      "453   Shelvin Mack       Utah Jazz     8.0       PG  26.0    6-3   203.0   \n",
      "454      Raul Neto       Utah Jazz    25.0       PG  24.0    6-1   179.0   \n",
      "455   Tibor Pleiss       Utah Jazz    21.0        C  26.0    7-3   256.0   \n",
      "456    Jeff Withey       Utah Jazz    24.0        C  26.0    7-0   231.0   \n",
      "457            NaN             NaN     NaN      NaN   NaN    NaN     NaN   \n",
      "\n",
      "               College     Salary  \n",
      "0                Texas  7730337.0  \n",
      "1            Marquette  6796117.0  \n",
      "2    Boston University        NaN  \n",
      "3        Georgia State  1148640.0  \n",
      "4                  NaN  5000000.0  \n",
      "..                 ...        ...  \n",
      "453             Butler  2433333.0  \n",
      "454                NaN   900000.0  \n",
      "455                NaN  2900000.0  \n",
      "456             Kansas   947276.0  \n",
      "457                NaN        NaN  \n",
      "\n",
      "[458 rows x 9 columns]\n",
      "Enter category order (comma separated): Name\n",
      "This is Sorted Data \n",
      "\n",
      "\n",
      "     Name            Team  Number Position   Age Height  Weight  \\\n",
      "0    NaN  Boston Celtics     0.0       PG  25.0    6-2   180.0   \n",
      "1    NaN  Boston Celtics    99.0       SF  25.0    6-6   235.0   \n",
      "2    NaN  Boston Celtics    30.0       SG  27.0    6-5   205.0   \n",
      "3    NaN  Boston Celtics    28.0       SG  22.0    6-5   185.0   \n",
      "4    NaN  Boston Celtics     8.0       PF  29.0   6-10   231.0   \n",
      "..   ...             ...     ...      ...   ...    ...     ...   \n",
      "453  NaN       Utah Jazz     8.0       PG  26.0    6-3   203.0   \n",
      "454  NaN       Utah Jazz    25.0       PG  24.0    6-1   179.0   \n",
      "455  NaN       Utah Jazz    21.0        C  26.0    7-3   256.0   \n",
      "456  NaN       Utah Jazz    24.0        C  26.0    7-0   231.0   \n",
      "457  NaN             NaN     NaN      NaN   NaN    NaN     NaN   \n",
      "\n",
      "               College     Salary  \n",
      "0                Texas  7730337.0  \n",
      "1            Marquette  6796117.0  \n",
      "2    Boston University        NaN  \n",
      "3        Georgia State  1148640.0  \n",
      "4                  NaN  5000000.0  \n",
      "..                 ...        ...  \n",
      "453             Butler  2433333.0  \n",
      "454                NaN   900000.0  \n",
      "455                NaN  2900000.0  \n",
      "456             Kansas   947276.0  \n",
      "457                NaN        NaN  \n",
      "\n",
      "[458 rows x 9 columns]\n"
     ]
    }
   ],
   "source": [
    "file = input(\"Enter a CSV format File Name: \")\n",
    "col = input(\"Enter Column Name : \")\n",
    "\n",
    "df = pd.read_csv(file)\n",
    "print(\"This is The Original Data (File Eneter By the User)\\n\\n\\n\",df)\n",
    "\n",
    "cat_order_input = input(\"Enter category order (comma separated): \")\n",
    "cat_order_list = cat_order_input.split(\",\")\n",
    "\n",
    "\n",
    "df[col] = pd.Categorical(df[col],categories= cat_order_list,ordered=True)\n",
    "\n",
    "\n",
    "df_sorted = df.sort_values(by=col)\n",
    "print(\"This is Sorted Data \\n\\n\\n\",df_sorted)\n",
    "\n"
   ]
  },
  {
   "cell_type": "markdown",
   "id": "4911c50e",
   "metadata": {},
   "source": [
    "# Q10. Write a Python program that reads a CSV file containing sales data for different products and visualizes the data using a stacked bar chart to show the sales of each product category over time. The program should prompt the user to enter the file path and display the chart."
   ]
  },
  {
   "cell_type": "code",
   "execution_count": 48,
   "id": "00321426",
   "metadata": {},
   "outputs": [],
   "source": [
    "import matplotlib.pyplot as plt\n",
    "\n",
    "\n",
    "file_path = input(\"Enter file path: \")\n",
    "\n",
    "df = pd.read_csv(file_path)\n",
    "\n",
    "df['Date'] = pd.to_datetime(df['Date'])\n",
    "\n",
    "grouped = df.groupby(['Product Category', 'Date']).sum()\n",
    "\n",
    "stacked = grouped.unstack(level=0)\n",
    "stacked.columns = stacked.columns.get_level_values(1)\n",
    "\n",
    "# Create stacked bar chart\n",
    "stacked.plot(kind='bar', stacked=True, figsize=(10,5))\n",
    "\n",
    "# Set chart title and axis labels\n",
    "plt.title('Sales by Product Category')\n",
    "plt.xlabel('Date')\n",
    "plt.ylabel('Sales')\n",
    "\n",
    "# Show chart\n",
    "plt.show()"
   ]
  },
  {
   "cell_type": "markdown",
   "id": "976bc250",
   "metadata": {},
   "source": [
    "\n",
    "\n",
    "# Q11. You are given a CSV file containing student data that includes the student ID and their test score. Write a Python program that reads the CSV file, calculates the mean, median, and mode of the test scores, and displays the results in a table."
   ]
  },
  {
   "cell_type": "code",
   "execution_count": 65,
   "id": "508aa33c",
   "metadata": {},
   "outputs": [],
   "source": [
    "student_data={'student id':[1,2,3,4,5,6,7,8,9,10],'test scores':[85,90,80,75,85,82,78,85,90,85]}\n",
    "df =pd.DataFrame(student_data)\n"
   ]
  },
  {
   "cell_type": "code",
   "execution_count": 66,
   "id": "338502e8",
   "metadata": {},
   "outputs": [
    {
     "data": {
      "text/html": [
       "<div>\n",
       "<style scoped>\n",
       "    .dataframe tbody tr th:only-of-type {\n",
       "        vertical-align: middle;\n",
       "    }\n",
       "\n",
       "    .dataframe tbody tr th {\n",
       "        vertical-align: top;\n",
       "    }\n",
       "\n",
       "    .dataframe thead th {\n",
       "        text-align: right;\n",
       "    }\n",
       "</style>\n",
       "<table border=\"1\" class=\"dataframe\">\n",
       "  <thead>\n",
       "    <tr style=\"text-align: right;\">\n",
       "      <th></th>\n",
       "      <th>student id</th>\n",
       "      <th>test scores</th>\n",
       "    </tr>\n",
       "  </thead>\n",
       "  <tbody>\n",
       "    <tr>\n",
       "      <th>0</th>\n",
       "      <td>1</td>\n",
       "      <td>85</td>\n",
       "    </tr>\n",
       "    <tr>\n",
       "      <th>1</th>\n",
       "      <td>2</td>\n",
       "      <td>90</td>\n",
       "    </tr>\n",
       "    <tr>\n",
       "      <th>2</th>\n",
       "      <td>3</td>\n",
       "      <td>80</td>\n",
       "    </tr>\n",
       "    <tr>\n",
       "      <th>3</th>\n",
       "      <td>4</td>\n",
       "      <td>75</td>\n",
       "    </tr>\n",
       "    <tr>\n",
       "      <th>4</th>\n",
       "      <td>5</td>\n",
       "      <td>85</td>\n",
       "    </tr>\n",
       "    <tr>\n",
       "      <th>5</th>\n",
       "      <td>6</td>\n",
       "      <td>82</td>\n",
       "    </tr>\n",
       "    <tr>\n",
       "      <th>6</th>\n",
       "      <td>7</td>\n",
       "      <td>78</td>\n",
       "    </tr>\n",
       "    <tr>\n",
       "      <th>7</th>\n",
       "      <td>8</td>\n",
       "      <td>85</td>\n",
       "    </tr>\n",
       "    <tr>\n",
       "      <th>8</th>\n",
       "      <td>9</td>\n",
       "      <td>90</td>\n",
       "    </tr>\n",
       "    <tr>\n",
       "      <th>9</th>\n",
       "      <td>10</td>\n",
       "      <td>85</td>\n",
       "    </tr>\n",
       "  </tbody>\n",
       "</table>\n",
       "</div>"
      ],
      "text/plain": [
       "   student id  test scores\n",
       "0           1           85\n",
       "1           2           90\n",
       "2           3           80\n",
       "3           4           75\n",
       "4           5           85\n",
       "5           6           82\n",
       "6           7           78\n",
       "7           8           85\n",
       "8           9           90\n",
       "9          10           85"
      ]
     },
     "execution_count": 66,
     "metadata": {},
     "output_type": "execute_result"
    }
   ],
   "source": [
    "df"
   ]
  },
  {
   "cell_type": "code",
   "execution_count": null,
   "id": "92c48586",
   "metadata": {},
   "outputs": [],
   "source": [
    "file_path = input(\"Enter the file path of the CSV file containing the student data: \")\n",
    "\n",
    "# Read CSV file into a Pandas DataFrame\n",
    "df = pd.read_csv(file_path)\n",
    "\n",
    "# Calculate mean, median, and mode of the test scores\n",
    "mean_score = df['Test Score'].mean()\n",
    "median_score = df['Test Score'].median()\n",
    "mode_score = df['Test Score'].mode()\n",
    "\n",
    "# Display the results in a table\n",
    "results = pd.DataFrame({'Statistic': ['Mean', 'Median', 'Mode'],\n",
    "                        'Value': [mean_score, median_score, list(mode_score)]})\n",
    "print(results.to_string(index=False))\n",
    "\n",
    "Output:\n",
    "    \n",
    "Enter the file path of the CSV file containing the student data: student_data.csv\n",
    " Statistic      Value\n",
    "      Mean      82.0\n",
    "    Median      82.0\n",
    "      Mode      [85.0, 90.0]"
   ]
  }
 ],
 "metadata": {
  "kernelspec": {
   "display_name": "Python 3 (ipykernel)",
   "language": "python",
   "name": "python3"
  },
  "language_info": {
   "codemirror_mode": {
    "name": "ipython",
    "version": 3
   },
   "file_extension": ".py",
   "mimetype": "text/x-python",
   "name": "python",
   "nbconvert_exporter": "python",
   "pygments_lexer": "ipython3",
   "version": "3.9.13"
  }
 },
 "nbformat": 4,
 "nbformat_minor": 5
}
